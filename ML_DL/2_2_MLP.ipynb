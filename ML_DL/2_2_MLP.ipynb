{
 "cells": [
  {
   "cell_type": "markdown",
   "metadata": {},
   "source": [
    "# Lecture5; Multilayer Perceptron"
   ]
  },
  {
   "cell_type": "markdown",
   "metadata": {},
   "source": [
    "## Multilayer Perceptron"
   ]
  },
  {
   "cell_type": "code",
   "execution_count": null,
   "metadata": {},
   "outputs": [],
   "source": [
    "import tensorflow as tf\n",
    "import numpy as np\n",
    "import matplotlib.pyplot as plt\n",
    "import random\n",
    "\n",
    "random.seed(1)\n",
    "np.random.seed(1)\n",
    "tf.random.set_seed(1)"
   ]
  },
  {
   "cell_type": "markdown",
   "metadata": {},
   "source": [
    "### Data processing"
   ]
  },
  {
   "cell_type": "markdown",
   "metadata": {},
   "source": [
    "### Define Neural Network"
   ]
  },
  {
   "cell_type": "code",
   "execution_count": null,
   "metadata": {},
   "outputs": [],
   "source": [
    "# Prepare MNIST data.\n",
    "(x_train, y_train), (x_test, y_test) = tf.keras.datasets.mnist.load_data()\n",
    "# Convert to float32.\n",
    "x_train, x_test = tf.cast(x_train, tf.float32), tf.cast(x_test, tf.float32)\n",
    "\n",
    "num_classes = 10\n",
    "num_features = x_train.shape[1] * x_train.shape[2]\n",
    "\n",
    "print(num_classes)\n",
    "print(num_features)\n",
    "\n",
    "# Flatten images to 1-D vector of 784 features (28*28).\n",
    "x_train, x_test = tf.reshape(x_train,[-1, num_features]), tf.reshape(x_test, [-1, num_features])\n",
    "# Normalize images value from [0, 255] to [0, 1].\n",
    "\n",
    "\n",
    "x_train, x_test = x_train / 255., x_test / 255."
   ]
  },
  {
   "cell_type": "code",
   "execution_count": null,
   "metadata": {},
   "outputs": [],
   "source": [
    "# #만약에 tensorflow.keras.Model 혹은 tensorflow.keras.layers를 사용하지 않고 직접 Neural Network를 코딩해야한다면\n",
    "\n",
    "# W1=tf.Variable(tf.random_normal_initializer(stddev=1)([num_features, 128])),\n",
    "# W2=tf.Variable(tf.random_normal_initializer(stddev=1)([128, 256])),\n",
    "# W3=tf.Variable(tf.random_normal_initializer(stddev=1)([256, num_classes]))\n",
    "# b1=tf.Variable(tf.zeros([128])),\n",
    "# b2=tf.Variable(tf.zeros([256])),\n",
    "# b3=tf.Variable(tf.zeros([num_classes]))\n",
    "\n",
    "# def neural_net(x):\n",
    "#     layer_1 = tf.matmul(x, W1) + b1\n",
    "#     layer_1 = tf.nn.relu(layer_1)\n",
    "    \n",
    "#     layer_2 = tf.matmul(layer_1, W2) + b2\n",
    "#     layer_2 = tf.nn.relu(layer_2)\n",
    "    \n",
    "#     out_layer = tf.matmul(layer_2, W3) + b3\n",
    "#     return tf.nn.softmax(out_layer)"
   ]
  },
  {
   "cell_type": "code",
   "execution_count": null,
   "metadata": {},
   "outputs": [],
   "source": [
    "# tensorflow.keras.Model 혹은 tensorflow.keras.layers를 사용해서 간단하게\n",
    "from tensorflow.keras import Model, layers\n",
    "\n",
    "class NeuralNet(Model):\n",
    "    def __init__(self):\n",
    "        super(NeuralNet, self).__init__()\n",
    "        self.fc1 = layers.Dense(128, activation=tf.nn.relu)\n",
    "        self.fc2 = layers.Dense(256, activation=tf.nn.relu)\n",
    "        self.out = layers.Dense(num_classes)\n",
    "\n",
    "    def call(self, x, is_training=False):\n",
    "        x = self.fc1(x)\n",
    "        x = self.fc2(x)\n",
    "        x = self.out(x)\n",
    "        if not is_training:\n",
    "            x = tf.nn.softmax(x) \n",
    "        return x\n",
    "\n",
    "neural_net = NeuralNet()"
   ]
  },
  {
   "cell_type": "code",
   "execution_count": null,
   "metadata": {},
   "outputs": [],
   "source": [
    "def cross_entropy_loss(x, y): # with_logits --> logits를 쓰는게 numerical stable하다\n",
    "    y = tf.cast(y, tf.int64)\n",
    "    loss = tf.nn.sparse_softmax_cross_entropy_with_logits(labels=y, logits=x)\n",
    "    return tf.reduce_mean(loss)\n",
    "\n",
    "# Accuracy metric.\n",
    "def accuracy(y_pred, y_true):\n",
    "    correct_prediction = tf.equal(tf.argmax(y_pred, 1), tf.cast(y_true, tf.int64)) \n",
    "    return tf.reduce_mean(tf.cast(correct_prediction, tf.float32))"
   ]
  },
  {
   "cell_type": "code",
   "execution_count": null,
   "metadata": {},
   "outputs": [],
   "source": [
    "lr = 0.003\n",
    "optimizer = tf.optimizers.SGD(lr)\n",
    "\n",
    "def run_optimization(x, y):\n",
    "    with tf.GradientTape() as g:\n",
    "        pred = neural_net(x, is_training=True)\n",
    "        loss = cross_entropy_loss(pred, y)\n",
    "        \n",
    "    trainable_variables = neural_net.trainable_variables\n",
    "    gradients = g.gradient(loss, trainable_variables)\n",
    "    optimizer.apply_gradients(zip(gradients, trainable_variables))"
   ]
  },
  {
   "cell_type": "code",
   "execution_count": null,
   "metadata": {},
   "outputs": [],
   "source": [
    "# Use tf.data API to shuffle and batch data.\n",
    "batch_size = 200\n",
    "train_data = tf.data.Dataset.from_tensor_slices((x_train, y_train))\n",
    "train_data = train_data.shuffle(60000).batch(batch_size).prefetch(1)\n",
    "\n",
    "epoch = 40\n",
    "display_epoch = 4\n",
    "\n",
    "# Run training for the given number of steps.\n",
    "for epo in range(1,epoch+1):\n",
    "    for step, (batch_x, batch_y) in enumerate(train_data, 1):\n",
    "        run_optimization(batch_x, batch_y)\n",
    "        \n",
    "    if epo % display_epoch == 0:\n",
    "        pred = neural_net(batch_x)\n",
    "        loss = cross_entropy_loss(pred, batch_y)\n",
    "        acc = accuracy(pred, batch_y)\n",
    "        print(\"epoch: \", epo, \", loss: \", loss.numpy(), \", acc: \", acc.numpy())"
   ]
  },
  {
   "cell_type": "code",
   "execution_count": null,
   "metadata": {},
   "outputs": [],
   "source": [
    "# Test model on validation set.\n",
    "pred = neural_net(x_test)\n",
    "print(\"Test Accuracy: \", accuracy(pred, y_test).numpy())"
   ]
  },
  {
   "cell_type": "code",
   "execution_count": null,
   "metadata": {},
   "outputs": [],
   "source": [
    "# Predict 5 images from validation set.\n",
    "n_images = 5\n",
    "test_images = x_test[:n_images]\n",
    "predictions = neural_net(test_images)\n",
    "\n",
    "# Display image and model prediction.\n",
    "for i in range(n_images):\n",
    "    plt.imshow(np.reshape(test_images[i], [28, 28]), cmap='gray')\n",
    "    plt.show()\n",
    "    print(\"Model prediction: %i\" % np.argmax(predictions.numpy()[i]))"
   ]
  },
  {
   "cell_type": "markdown",
   "metadata": {},
   "source": [
    "## model.fit방식으로 구현"
   ]
  },
  {
   "cell_type": "code",
   "execution_count": null,
   "metadata": {},
   "outputs": [],
   "source": [
    "model2=tf.keras.Sequential(                           # build block\n",
    "    [tf.keras.layers.Dense(128, activation='relu'),\n",
    "     tf.keras.layers.Dense(256, actication='relu'),\n",
    "     tf.keras.layers.Dense(10)\n",
    "     ])"
   ]
  },
  {
   "cell_type": "code",
   "execution_count": null,
   "metadata": {},
   "outputs": [],
   "source": [
    "model2.compile(optimizer='SGD', loss=tf.keras.losses.SparseCategoricalCrossentropy(from_logits=True) \n",
    "               , metrics=['accuracy'])                                    # 어떤 loss func을 사용하고, metric, optimizer를 사용할지 결정"
   ]
  },
  {
   "cell_type": "code",
   "execution_count": null,
   "metadata": {},
   "outputs": [],
   "source": [
    "inform=model2.fit(x_train, y_train, batch_size=128, epochs=40)            # batch size는 default가 32라고 함, val dataset을 넣어줄 수도 있고, 자동으로 쪼개서 쓰기도 함, validation_split=0.2\n",
    "\n",
    "\n",
    "fig, loss_ax = plt.subplots()\n",
    "acc_ax = loss_ax.twinx()\n",
    "\n",
    "loss_ax.plot(inform.history['loss'], 'y', label='train loss')\n",
    "loss_ax.set_xlabel('epoch')\n",
    "loss_ax.set_ylabel('loss')\n",
    "\n",
    "acc_ax.plot(inform.history['accuracy'], 'b', label='train acc')\n",
    "\n",
    "\n",
    "plt.show()\n",
    "\n",
    "\n",
    "test_loss, test_acc = model2.evaluate(x_test, y_test) # verbose = 0 --> ignore, 1 --> progress bare, 2--> one line per epoch"
   ]
  }
 ],
 "metadata": {
  "interpreter": {
   "hash": "027c60129158c282f17300ecd42f7db605bcd4ed96b3ff49c4ae68de6638e862"
  },
  "kernelspec": {
   "display_name": "Python 3.9.2 64-bit (system)",
   "language": "python",
   "name": "python3"
  },
  "language_info": {
   "codemirror_mode": {
    "name": "ipython",
    "version": 3
   },
   "file_extension": ".py",
   "mimetype": "text/x-python",
   "name": "python",
   "nbconvert_exporter": "python",
   "pygments_lexer": "ipython3",
   "version": "3.9.2"
  }
 },
 "nbformat": 4,
 "nbformat_minor": 4
}

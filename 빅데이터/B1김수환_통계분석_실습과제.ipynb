{
 "cells": [
  {
   "cell_type": "code",
   "execution_count": 1,
   "id": "4d5f18aa",
   "metadata": {},
   "outputs": [],
   "source": [
    "import pandas as pd\n",
    "import numpy as np\n",
    "import matplotlib\n",
    "import matplotlib.pyplot as plt\n",
    "from scipy import stats\n",
    "from statsmodels.stats.proportion import proportions_ztest"
   ]
  },
  {
   "cell_type": "markdown",
   "id": "f0d2c1a5",
   "metadata": {},
   "source": [
    "## 실습 (t 분포)"
   ]
  },
  {
   "cell_type": "code",
   "execution_count": 2,
   "id": "22f57f4a",
   "metadata": {},
   "outputs": [
    {
     "name": "stdout",
     "output_type": "stream",
     "text": [
      "P(T<=t):0.976\n"
     ]
    }
   ],
   "source": [
    "t = 2.0\n",
    "df = 100\n",
    "\n",
    "prob = stats.t.cdf(t,df)\n",
    "print(\"P(T<=t):{:.3f}\".format(prob))"
   ]
  },
  {
   "cell_type": "markdown",
   "id": "57f5cdca",
   "metadata": {},
   "source": [
    "## 실습 2"
   ]
  },
  {
   "cell_type": "code",
   "execution_count": 3,
   "id": "31fd0b27",
   "metadata": {},
   "outputs": [
    {
     "name": "stdout",
     "output_type": "stream",
     "text": [
      "P(X<=3.0):0.0656\n"
     ]
    }
   ],
   "source": [
    "chisq = 3.0\n",
    "df = 8\n",
    "\n",
    "prob = stats.chi2.cdf(chisq,df)\n",
    "print(\"P(X<={0}):{1:.4f}\".format(chisq,prob))"
   ]
  },
  {
   "cell_type": "markdown",
   "id": "9cc59c7a",
   "metadata": {},
   "source": [
    "## 실습 (F 분포)"
   ]
  },
  {
   "cell_type": "code",
   "execution_count": 4,
   "id": "b0a319ae",
   "metadata": {},
   "outputs": [
    {
     "name": "stdout",
     "output_type": "stream",
     "text": [
      "P(X<=F):0.850\n"
     ]
    }
   ],
   "source": [
    "f = 1.5\n",
    "dfnum = 10\n",
    "dfden = 100\n",
    "\n",
    "prob = stats.f.cdf(x=f, dfn = dfnum, dfd = dfden)\n",
    "print(\"P(X<=F):{:.3f}\".format(prob))"
   ]
  },
  {
   "cell_type": "markdown",
   "id": "b999b44e",
   "metadata": {},
   "source": [
    "## 이항분포"
   ]
  },
  {
   "cell_type": "code",
   "execution_count": 5,
   "id": "ffd2367d",
   "metadata": {},
   "outputs": [
    {
     "name": "stdout",
     "output_type": "stream",
     "text": [
      "P(X=0)=0.168\n",
      "P(X=1)=0.360\n",
      "P(X=2)=0.309\n",
      "P(X=3)=0.132\n",
      "P(X=4)=0.028\n",
      "P(X=5)=0.002\n"
     ]
    }
   ],
   "source": [
    "n = 5\n",
    "for i in range(n+1):\n",
    "    prob = stats.binom.pmf(k=i, n=n, p=0.3)\n",
    "    print(\"P(X={0})={1:.3f}\".format(i,prob))"
   ]
  },
  {
   "cell_type": "markdown",
   "id": "dc47685f",
   "metadata": {},
   "source": [
    "## 정규성 검정"
   ]
  },
  {
   "cell_type": "code",
   "execution_count": 6,
   "id": "6236616a",
   "metadata": {},
   "outputs": [
    {
     "data": {
      "text/html": [
       "<div>\n",
       "<style scoped>\n",
       "    .dataframe tbody tr th:only-of-type {\n",
       "        vertical-align: middle;\n",
       "    }\n",
       "\n",
       "    .dataframe tbody tr th {\n",
       "        vertical-align: top;\n",
       "    }\n",
       "\n",
       "    .dataframe thead th {\n",
       "        text-align: right;\n",
       "    }\n",
       "</style>\n",
       "<table border=\"1\" class=\"dataframe\">\n",
       "  <thead>\n",
       "    <tr style=\"text-align: right;\">\n",
       "      <th></th>\n",
       "      <th>Mat_A</th>\n",
       "      <th>Mat_B</th>\n",
       "      <th>Total</th>\n",
       "      <th>Sub</th>\n",
       "    </tr>\n",
       "  </thead>\n",
       "  <tbody>\n",
       "    <tr>\n",
       "      <th>0</th>\n",
       "      <td>73.4</td>\n",
       "      <td>68.7</td>\n",
       "      <td>73.4</td>\n",
       "      <td>1</td>\n",
       "    </tr>\n",
       "    <tr>\n",
       "      <th>1</th>\n",
       "      <td>77.0</td>\n",
       "      <td>71.4</td>\n",
       "      <td>77.0</td>\n",
       "      <td>1</td>\n",
       "    </tr>\n",
       "    <tr>\n",
       "      <th>2</th>\n",
       "      <td>73.7</td>\n",
       "      <td>69.8</td>\n",
       "      <td>73.7</td>\n",
       "      <td>1</td>\n",
       "    </tr>\n",
       "    <tr>\n",
       "      <th>3</th>\n",
       "      <td>73.3</td>\n",
       "      <td>75.3</td>\n",
       "      <td>73.3</td>\n",
       "      <td>1</td>\n",
       "    </tr>\n",
       "    <tr>\n",
       "      <th>4</th>\n",
       "      <td>73.1</td>\n",
       "      <td>71.3</td>\n",
       "      <td>73.1</td>\n",
       "      <td>1</td>\n",
       "    </tr>\n",
       "  </tbody>\n",
       "</table>\n",
       "</div>"
      ],
      "text/plain": [
       "   Mat_A  Mat_B  Total  Sub\n",
       "0   73.4   68.7   73.4    1\n",
       "1   77.0   71.4   77.0    1\n",
       "2   73.7   69.8   73.7    1\n",
       "3   73.3   75.3   73.3    1\n",
       "4   73.1   71.3   73.1    1"
      ]
     },
     "execution_count": 6,
     "metadata": {},
     "output_type": "execute_result"
    }
   ],
   "source": [
    "ds_2sample = pd.read_csv(\"/home/piai/강의자료/Datahandling/BigData기초/2sample_t_test.csv\")\n",
    "ds_2sample.head()"
   ]
  },
  {
   "cell_type": "code",
   "execution_count": 7,
   "id": "54b44899",
   "metadata": {},
   "outputs": [
    {
     "name": "stdout",
     "output_type": "stream",
     "text": [
      "Shapiro-Wilk Test: statistic = 0.906, p-value = 0.256\n"
     ]
    }
   ],
   "source": [
    "data1 = ds_2sample['Mat_A'].dropna()  # 결측지 -> dropna()\n",
    "stats.shapiro(data1)\n",
    "statistic, p = stats.shapiro(data1)\n",
    "print(\"Shapiro-Wilk Test: statistic = {:.3f}, p-value = {:.3f}\".format(statistic, p))"
   ]
  },
  {
   "cell_type": "code",
   "execution_count": 8,
   "id": "2b8fc728",
   "metadata": {},
   "outputs": [
    {
     "name": "stdout",
     "output_type": "stream",
     "text": [
      "Shapiro-Wilk Test: statistic = 0.973, p-value = 0.917\n"
     ]
    }
   ],
   "source": [
    "data2 = ds_2sample['Mat_B'].dropna()\n",
    "stats.shapiro(data2)\n",
    "statistic, p = stats.shapiro(data2)\n",
    "print(\"Shapiro-Wilk Test: statistic = {:.3f}, p-value = {:.3f}\".format(statistic, p))"
   ]
  },
  {
   "cell_type": "markdown",
   "id": "c5d6d5c3",
   "metadata": {},
   "source": [
    "귀무가설 : 모집단은 정규분포를 따른다.\n",
    "\n",
    "대립가설 : 모집단은 정규분포를 따르지 않는다.\n",
    "\n",
    "정규성 검정결과(95%신뢰수준 사용 시) Mat_A와 Mat_B의 p-value가 각각 0.256, 0.917로 0.005보다 크기 때문에 정규분포를 따른다고 판단."
   ]
  },
  {
   "cell_type": "markdown",
   "id": "23bdbfab",
   "metadata": {},
   "source": [
    "## 모평균 구간추정"
   ]
  },
  {
   "cell_type": "code",
   "execution_count": 9,
   "id": "57e37d89",
   "metadata": {},
   "outputs": [
    {
     "data": {
      "text/html": [
       "<div>\n",
       "<style scoped>\n",
       "    .dataframe tbody tr th:only-of-type {\n",
       "        vertical-align: middle;\n",
       "    }\n",
       "\n",
       "    .dataframe tbody tr th {\n",
       "        vertical-align: top;\n",
       "    }\n",
       "\n",
       "    .dataframe thead th {\n",
       "        text-align: right;\n",
       "    }\n",
       "</style>\n",
       "<table border=\"1\" class=\"dataframe\">\n",
       "  <thead>\n",
       "    <tr style=\"text-align: right;\">\n",
       "      <th></th>\n",
       "      <th>sample</th>\n",
       "    </tr>\n",
       "  </thead>\n",
       "  <tbody>\n",
       "    <tr>\n",
       "      <th>0</th>\n",
       "      <td>18</td>\n",
       "    </tr>\n",
       "    <tr>\n",
       "      <th>1</th>\n",
       "      <td>18</td>\n",
       "    </tr>\n",
       "    <tr>\n",
       "      <th>2</th>\n",
       "      <td>20</td>\n",
       "    </tr>\n",
       "    <tr>\n",
       "      <th>3</th>\n",
       "      <td>21</td>\n",
       "    </tr>\n",
       "    <tr>\n",
       "      <th>4</th>\n",
       "      <td>20</td>\n",
       "    </tr>\n",
       "  </tbody>\n",
       "</table>\n",
       "</div>"
      ],
      "text/plain": [
       "   sample\n",
       "0      18\n",
       "1      18\n",
       "2      20\n",
       "3      21\n",
       "4      20"
      ]
     },
     "execution_count": 9,
     "metadata": {},
     "output_type": "execute_result"
    }
   ],
   "source": [
    "df = pd.DataFrame({\"sample\" : [18, 18, 20, 21, 20, 23, 19, 18, 17, 21,\n",
    "                              22, 20, 20, 21, 20, 19, 19, 18, 17, 19]})\n",
    "df.head()"
   ]
  },
  {
   "cell_type": "code",
   "execution_count": 10,
   "id": "5e128a97",
   "metadata": {},
   "outputs": [
    {
     "name": "stdout",
     "output_type": "stream",
     "text": [
      "신뢰구간: ([18.32],[20.68])\n"
     ]
    },
    {
     "name": "stderr",
     "output_type": "stream",
     "text": [
      "/home/piai/anaconda3/lib/python3.10/site-packages/numpy/core/fromnumeric.py:3430: FutureWarning: In a future version, DataFrame.mean(axis=None) will return a scalar mean over the entire DataFrame. To retain the old behavior, use 'frame.mean(axis=0)' or just 'frame.mean()'\n",
      "  return mean(axis=axis, dtype=dtype, out=out, **kwargs)\n"
     ]
    }
   ],
   "source": [
    "lower, upper = stats.norm.interval(0.95, loc = np.mean(df), scale = 3.8/np.sqrt(40))\n",
    "print(\"신뢰구간: ({0},{1})\".format(lower.round(2), upper.round(2)))"
   ]
  },
  {
   "cell_type": "markdown",
   "id": "3195adf0",
   "metadata": {},
   "source": [
    "95% 신뢰구간은 [18.32],[20.68]으로 모집단 평균이 이 구간 안에 있을 확률이 95%라는 것을 의미한다. 이 구간 밖의 값이 나올 경우, 해당 모집단에서 유의한 차이가 있다고 판단할 수 있다."
   ]
  },
  {
   "cell_type": "markdown",
   "id": "26af6508",
   "metadata": {},
   "source": [
    "## 모평균 신뢰구간 추정 - 모표준편차를 모르는 경우"
   ]
  },
  {
   "cell_type": "code",
   "execution_count": 11,
   "id": "c5d1c816",
   "metadata": {},
   "outputs": [
    {
     "data": {
      "text/html": [
       "<div>\n",
       "<style scoped>\n",
       "    .dataframe tbody tr th:only-of-type {\n",
       "        vertical-align: middle;\n",
       "    }\n",
       "\n",
       "    .dataframe tbody tr th {\n",
       "        vertical-align: top;\n",
       "    }\n",
       "\n",
       "    .dataframe thead th {\n",
       "        text-align: right;\n",
       "    }\n",
       "</style>\n",
       "<table border=\"1\" class=\"dataframe\">\n",
       "  <thead>\n",
       "    <tr style=\"text-align: right;\">\n",
       "      <th></th>\n",
       "      <th>sample</th>\n",
       "    </tr>\n",
       "  </thead>\n",
       "  <tbody>\n",
       "    <tr>\n",
       "      <th>0</th>\n",
       "      <td>73</td>\n",
       "    </tr>\n",
       "    <tr>\n",
       "      <th>1</th>\n",
       "      <td>71</td>\n",
       "    </tr>\n",
       "    <tr>\n",
       "      <th>2</th>\n",
       "      <td>74</td>\n",
       "    </tr>\n",
       "    <tr>\n",
       "      <th>3</th>\n",
       "      <td>69</td>\n",
       "    </tr>\n",
       "    <tr>\n",
       "      <th>4</th>\n",
       "      <td>70</td>\n",
       "    </tr>\n",
       "  </tbody>\n",
       "</table>\n",
       "</div>"
      ],
      "text/plain": [
       "   sample\n",
       "0      73\n",
       "1      71\n",
       "2      74\n",
       "3      69\n",
       "4      70"
      ]
     },
     "execution_count": 11,
     "metadata": {},
     "output_type": "execute_result"
    }
   ],
   "source": [
    "df = pd.DataFrame({\"sample\" : [73, 71, 74, 69, 70, 73, 70, 68, 75, 72,\n",
    "                              70, 72, 73, 70, 70, 72, 71, 70, 75, 72]})\n",
    "df.head()"
   ]
  },
  {
   "cell_type": "code",
   "execution_count": 12,
   "id": "391da47f",
   "metadata": {},
   "outputs": [
    {
     "name": "stdout",
     "output_type": "stream",
     "text": [
      "신뢰구간: ([70.6],[72.4])\n"
     ]
    },
    {
     "name": "stderr",
     "output_type": "stream",
     "text": [
      "/home/piai/anaconda3/lib/python3.10/site-packages/numpy/core/fromnumeric.py:3430: FutureWarning: In a future version, DataFrame.mean(axis=None) will return a scalar mean over the entire DataFrame. To retain the old behavior, use 'frame.mean(axis=0)' or just 'frame.mean()'\n",
      "  return mean(axis=axis, dtype=dtype, out=out, **kwargs)\n"
     ]
    }
   ],
   "source": [
    "lower, upper = stats.t.interval(0.95,len(df)-1, loc = np.mean(df), scale = stats.sem(df))\n",
    "print(\"신뢰구간: ({0},{1})\".format(lower.round(2), upper.round(2)))"
   ]
  },
  {
   "cell_type": "markdown",
   "id": "9fe7f9c1",
   "metadata": {},
   "source": [
    "95% 신뢰구간은 [70.6],[72.4]으로 모집단 평균이 이 구간 안에 있을 확률이 95%라는 것을 의미한다. 이 구간 밖의 값이 나올 경우, 해당 모집단에서 유의한 차이가 있다고 판단할 수 있다."
   ]
  },
  {
   "cell_type": "markdown",
   "id": "ed2219bb",
   "metadata": {},
   "source": [
    "## 1-Sample t-test"
   ]
  },
  {
   "cell_type": "code",
   "execution_count": 13,
   "id": "c08943be",
   "metadata": {},
   "outputs": [
    {
     "data": {
      "text/plain": [
       "<Axes: >"
      ]
     },
     "execution_count": 13,
     "metadata": {},
     "output_type": "execute_result"
    },
    {
     "data": {
      "image/png": "[encoded data removed]",
      "text/plain": [
       "<Figure size 640x480 with 1 Axes>"
      ]
     },
     "metadata": {},
     "output_type": "display_data"
    }
   ],
   "source": [
    "df = pd.DataFrame({'sample' : [85.0, 79.0, 79.1, 79.9, 81.6, 78.6, 85.4, 83.4, 78.1, 79.2]})\n",
    "df.boxplot(['sample'])"
   ]
  },
  {
   "cell_type": "code",
   "execution_count": 14,
   "id": "e67c6cfe",
   "metadata": {},
   "outputs": [
    {
     "name": "stdout",
     "output_type": "stream",
     "text": [
      "statistic=0.847, p-value=0.054\n"
     ]
    }
   ],
   "source": [
    "statistic, p = stats.shapiro(df['sample'])\n",
    "print(\"statistic={:.3f}, p-value={:.3f}\".format(statistic, p))"
   ]
  },
  {
   "cell_type": "code",
   "execution_count": 15,
   "id": "28629d5c",
   "metadata": {},
   "outputs": [
    {
     "name": "stdout",
     "output_type": "stream",
     "text": [
      "1-sample t-test\n",
      "t 통계량 : [3.379]\n",
      "p-value 통계량 : [0.008]\n"
     ]
    }
   ],
   "source": [
    "t_result = stats.ttest_1samp(df, 78.0)\n",
    "t, p = t_result.statistic.round(3),t_result.pvalue.round(3)\n",
    "\n",
    "print(\"1-sample t-test\")\n",
    "print(\"t 통계량 : {}\".format(t))\n",
    "print(\"p-value 통계량 : {}\".format(p))"
   ]
  },
  {
   "cell_type": "markdown",
   "id": "7d719e6d",
   "metadata": {},
   "source": [
    "유의수준 5%에서 검정결과 P값이 0.008이므로 개선활동이 고객 만족도를 변화 시켰다고 할 수 있다."
   ]
  },
  {
   "cell_type": "markdown",
   "id": "8d89e3c7",
   "metadata": {},
   "source": [
    "## 2-Sample t-test"
   ]
  },
  {
   "cell_type": "code",
   "execution_count": 16,
   "id": "41db95f2",
   "metadata": {},
   "outputs": [],
   "source": [
    "df = pd.DataFrame({'A': [1.883, 1.715, 1.799, 1.768, 1.711, 1.832, 1.427, 1.344],\n",
    "                  'B' : [1.435, 1.572, 1.486, 1.511, 1.457, 1.548, 1.404, 1.883]})"
   ]
  },
  {
   "cell_type": "code",
   "execution_count": 17,
   "id": "bda75105",
   "metadata": {},
   "outputs": [
    {
     "data": {
      "image/png": "[encoded data removed]",
      "text/plain": [
       "<Figure size 640x480 with 1 Axes>"
      ]
     },
     "metadata": {},
     "output_type": "display_data"
    }
   ],
   "source": [
    "df.boxplot(['A','B'])\n",
    "plt.show()"
   ]
  },
  {
   "cell_type": "markdown",
   "id": "4b388258",
   "metadata": {},
   "source": [
    "'A','B' 정규성 검정 : Shapiro-Wilk Test"
   ]
  },
  {
   "cell_type": "code",
   "execution_count": 18,
   "id": "6de346c8",
   "metadata": {},
   "outputs": [
    {
     "name": "stdout",
     "output_type": "stream",
     "text": [
      "stastic = 0.843, p-value=0.080\n"
     ]
    }
   ],
   "source": [
    "statistic, p = stats.shapiro(df['A'])\n",
    "print(\"stastic = {:.3f}, p-value={:.3f}\".format(statistic,p))"
   ]
  },
  {
   "cell_type": "code",
   "execution_count": 19,
   "id": "04fc76d7",
   "metadata": {},
   "outputs": [
    {
     "name": "stdout",
     "output_type": "stream",
     "text": [
      "stastic = 0.773, p-value=0.015\n"
     ]
    }
   ],
   "source": [
    "statistic, p = stats.shapiro(df['B'])\n",
    "print(\"stastic = {:.3f}, p-value={:.3f}\".format(statistic,p))"
   ]
  },
  {
   "cell_type": "code",
   "execution_count": 20,
   "id": "f1e8ef95",
   "metadata": {},
   "outputs": [
    {
     "name": "stdout",
     "output_type": "stream",
     "text": [
      "LeveneResult(statistic=0.4408416728536036, pvalue=0.5175025061092301)\n"
     ]
    }
   ],
   "source": [
    "# print(stats.bartlett(df['A'],df['B']))\n",
    "print(stats.levene(df['A'],df['B']))"
   ]
  },
  {
   "cell_type": "code",
   "execution_count": 21,
   "id": "4acc13e0",
   "metadata": {},
   "outputs": [
    {
     "name": "stdout",
     "output_type": "stream",
     "text": [
      "2-Sample t-Test\n",
      "t:1.7\n",
      "p:0.111\n"
     ]
    }
   ],
   "source": [
    "t_result = stats.ttest_ind(df['A'],df['B'])\n",
    "t, p = t_result.statistic.round(3),t_result.pvalue.round(3)\n",
    "\n",
    "print(\"2-Sample t-Test\")\n",
    "print(\"t:{}\".format(t))\n",
    "print(\"p:{}\".format(p))"
   ]
  },
  {
   "cell_type": "markdown",
   "id": "68358efc",
   "metadata": {},
   "source": [
    "2 Sample t-test는 두 집단 간 평균이 같은지 비교한다.\n",
    "\n",
    "귀무가설 : 공급자 간에 모평균 차이가 없다.\n",
    "\n",
    "대립가설 : 공급자 간에 모평균 차이가 있다.\n",
    "\n",
    "유의수준 5%에서 검정결과 p-value값이 0.111이므로 귀무가설을 따른다. 따라서 공급자 간에 모평균 차이가 없다."
   ]
  },
  {
   "cell_type": "markdown",
   "id": "2684ce45",
   "metadata": {},
   "source": [
    "## Paired t-test"
   ]
  },
  {
   "cell_type": "code",
   "execution_count": 22,
   "id": "7432a9c0",
   "metadata": {},
   "outputs": [
    {
     "name": "stdout",
     "output_type": "stream",
     "text": [
      "paired t-test\n",
      " t :[-2.2661]\n",
      " p :[0.0497]\n"
     ]
    }
   ],
   "source": [
    "df1 = pd.DataFrame({'before': [720, 589, 780, 648, 720, 589, 780, 648, 780, 648]})\n",
    "df2 = pd.DataFrame({'after' : [710, 580, 787, 712, 750, 600, 782, 670, 790, 680]})\n",
    "\n",
    "t_result = stats.ttest_rel(df1, df2)\n",
    "t, p = t_result.statistic.round(4), t_result.pvalue.round(4)\n",
    "\n",
    "print('paired t-test')\n",
    "print(\" t :{}\".format(t))\n",
    "print(\" p :{}\".format(p))"
   ]
  },
  {
   "cell_type": "markdown",
   "id": "60d85a9c",
   "metadata": {},
   "source": [
    "귀무가설 : 회사원들의 성적은 학원가기 전후에 대해 차이가 없다.\n",
    "\n",
    "대립가설 : 회사원들의 성적은 학원가기 전후에 대해 차이가 있다.\n",
    "\n",
    "유의수준 5%에서 검정결과 p-value값이 0.04이므로 대립가설을 채택해야한다.\n",
    "따라서 회사원들의 성적은 학원가기 전후에 대해 차이가 있다."
   ]
  },
  {
   "cell_type": "markdown",
   "id": "2cfaaf21",
   "metadata": {},
   "source": [
    "## 1 Proportion test"
   ]
  },
  {
   "cell_type": "code",
   "execution_count": 23,
   "id": "495721df",
   "metadata": {},
   "outputs": [
    {
     "name": "stdout",
     "output_type": "stream",
     "text": [
      "1 Proportion test\n",
      " t :-2.041\n",
      " p :0.041\n"
     ]
    }
   ],
   "source": [
    "count = 40\n",
    "n_obs = 100\n",
    "value = 0.5\n",
    "\n",
    "stat, pval = proportions_ztest(count, n_obs, value)\n",
    "\n",
    "print('1 Proportion test')\n",
    "print(\" t :{0:0.3f}\".format(stat))\n",
    "print(\" p :{0:0.3f}\".format(pval))"
   ]
  },
  {
   "cell_type": "markdown",
   "id": "b78fc5b9",
   "metadata": {},
   "source": [
    "귀무가설 : 동전 앞면이 나올 확률은 50%이다.\n",
    "\n",
    "대립가설 : 동전 앞면이 나올 확률은 50%가 아니다.\n",
    "\n",
    "p-value값이 0.041이기 때문에 대립가설을 채택한다. 따라서 동전 앞면이 나올 확률은 50%가 아니다."
   ]
  },
  {
   "cell_type": "markdown",
   "id": "1289e9eb",
   "metadata": {},
   "source": [
    "## 2 Proportion test"
   ]
  },
  {
   "cell_type": "code",
   "execution_count": 24,
   "id": "ef689dc9",
   "metadata": {},
   "outputs": [
    {
     "name": "stdout",
     "output_type": "stream",
     "text": [
      "2 proportion test\n",
      " z :2.073\n",
      " p :0.038\n"
     ]
    }
   ],
   "source": [
    "count = np.array([14, 5])\n",
    "nobs = np.array([1200, 1200])\n",
    "\n",
    "stat, pval = proportions_ztest(count, nobs)\n",
    "\n",
    "print('2 proportion test')\n",
    "print(\" z :{0:0.3f}\".format(stat))\n",
    "print(\" p :{0:0.3f}\".format(pval))"
   ]
  },
  {
   "cell_type": "markdown",
   "id": "dc71b35a",
   "metadata": {},
   "source": [
    "귀무가설 : 두 공정의 불량률은 같다.\n",
    "\n",
    "대립가설 : 두 공정의 불량률은 같지 않다.\n",
    "\n",
    "p-value가 0.038이므로 대립가설을 채택한다. 따라서 두 공정의 불량률은 같지 않고 차이가 있다고 판단할 수 있다."
   ]
  },
  {
   "cell_type": "markdown",
   "id": "e52e0d8b",
   "metadata": {},
   "source": [
    "## 카이제곱 검정"
   ]
  },
  {
   "cell_type": "code",
   "execution_count": 25,
   "id": "2a8a7a56",
   "metadata": {},
   "outputs": [
    {
     "name": "stdout",
     "output_type": "stream",
     "text": [
      "chi-square test\n",
      "chisq :98.666\n",
      "p :0.000\n",
      "degree of freedom : 30\n",
      "expected value : \n",
      "[[11.004  8.21   5.24   3.843  1.921  9.782]\n",
      " [ 8.528  6.362  4.061  2.978  1.489  7.581]\n",
      " [10.454  7.799  4.978  3.651  1.825  9.293]\n",
      " [ 8.253  6.157  3.93   2.882  1.441  7.336]\n",
      " [ 7.978  5.952  3.799  2.786  1.393  7.092]\n",
      " [ 7.703  5.747  3.668  2.69   1.345  6.847]\n",
      " [ 9.079  6.773  4.323  3.17   1.585  8.07 ]]\n"
     ]
    }
   ],
   "source": [
    "df = pd.DataFrame({'A':[18, 1, 8, 7, 10, 9, 10],'B':[8, 2, 14, 5, 5, 9, 4],'C':[4, 1, 3, 4, 9, 5, 4],\n",
    "                   'D':[4, 1, 2, 3, 2, 3, 7],'E':[3, 1, 3, 1, 1, 1, 1],'F':[3, 25, 8, 10, 2, 1, 7]})\n",
    "\n",
    "chi, pval, dof, expected = stats.chi2_contingency(df)\n",
    "\n",
    "print(\"chi-square test\")\n",
    "print(\"chisq :{0:0.3f}\".format(chi))\n",
    "print(\"p :{0:0.3f}\".format(pval))\n",
    "print(\"degree of freedom : {}\".format(dof))\n",
    "print(\"expected value : \\n{}\".format(expected.round(3)))"
   ]
  },
  {
   "cell_type": "raw",
   "id": "e9731862",
   "metadata": {},
   "source": [
    "귀무가설 : 각 제품에 대해 이미지 차이가 없다.\n",
    "\n",
    "대립가설 : 각 제품에 대해 이미지 차이가 있다.\n",
    "\n",
    "p-value 값이 0.000이므로 대립가설을 채택한다. 따라서 이미지 차이가 있다."
   ]
  },
  {
   "cell_type": "markdown",
   "id": "a4c36ae2",
   "metadata": {},
   "source": [
    "## ANOVA"
   ]
  },
  {
   "cell_type": "code",
   "execution_count": 26,
   "id": "6cf989e1",
   "metadata": {},
   "outputs": [
    {
     "data": {
      "text/html": [
       "<div>\n",
       "<style scoped>\n",
       "    .dataframe tbody tr th:only-of-type {\n",
       "        vertical-align: middle;\n",
       "    }\n",
       "\n",
       "    .dataframe tbody tr th {\n",
       "        vertical-align: top;\n",
       "    }\n",
       "\n",
       "    .dataframe thead th {\n",
       "        text-align: right;\n",
       "    }\n",
       "</style>\n",
       "<table border=\"1\" class=\"dataframe\">\n",
       "  <thead>\n",
       "    <tr style=\"text-align: right;\">\n",
       "      <th></th>\n",
       "      <th>time</th>\n",
       "      <th>charge</th>\n",
       "      <th>gangjong</th>\n",
       "      <th>type</th>\n",
       "    </tr>\n",
       "  </thead>\n",
       "  <tbody>\n",
       "    <tr>\n",
       "      <th>0</th>\n",
       "      <td>32.2</td>\n",
       "      <td>A</td>\n",
       "      <td>a</td>\n",
       "      <td>a</td>\n",
       "    </tr>\n",
       "    <tr>\n",
       "      <th>1</th>\n",
       "      <td>30.4</td>\n",
       "      <td>B</td>\n",
       "      <td>a</td>\n",
       "      <td>a</td>\n",
       "    </tr>\n",
       "    <tr>\n",
       "      <th>2</th>\n",
       "      <td>33.6</td>\n",
       "      <td>C</td>\n",
       "      <td>a</td>\n",
       "      <td>a</td>\n",
       "    </tr>\n",
       "    <tr>\n",
       "      <th>3</th>\n",
       "      <td>36.4</td>\n",
       "      <td>D</td>\n",
       "      <td>a</td>\n",
       "      <td>a</td>\n",
       "    </tr>\n",
       "    <tr>\n",
       "      <th>4</th>\n",
       "      <td>33.9</td>\n",
       "      <td>E</td>\n",
       "      <td>a</td>\n",
       "      <td>a</td>\n",
       "    </tr>\n",
       "  </tbody>\n",
       "</table>\n",
       "</div>"
      ],
      "text/plain": [
       "   time charge gangjong type\n",
       "0  32.2      A        a    a\n",
       "1  30.4      B        a    a\n",
       "2  33.6      C        a    a\n",
       "3  36.4      D        a    a\n",
       "4  33.9      E        a    a"
      ]
     },
     "execution_count": 26,
     "metadata": {},
     "output_type": "execute_result"
    }
   ],
   "source": [
    "df = pd.read_csv(\"/home/piai/강의자료/Datahandling/BigData기초/ANOVA.csv\", encoding = 'euc-kr')\n",
    "df.head()"
   ]
  },
  {
   "cell_type": "markdown",
   "id": "c59dc78e",
   "metadata": {},
   "source": [
    "### 강종별로 2차 정련시간의 차이가 있는지 검정"
   ]
  },
  {
   "cell_type": "code",
   "execution_count": 27,
   "id": "15981cd2",
   "metadata": {},
   "outputs": [
    {
     "data": {
      "image/png": "[encoded data removed]",
      "text/plain": [
       "<Figure size 640x480 with 1 Axes>"
      ]
     },
     "metadata": {},
     "output_type": "display_data"
    }
   ],
   "source": [
    "df_gangjong = df.groupby('gangjong')['time']\n",
    "\n",
    "plt.boxplot([df_gangjong.get_group('a'), df_gangjong.get_group('b'), \n",
    "             df_gangjong.get_group('c'), df_gangjong.get_group('d')])\n",
    "plt.xticks([1, 2, 3, 4], ['a', 'b', 'c', 'd'])\n",
    "plt.ylabel('time')\n",
    "plt.title('2nd refining time by gangjong')\n",
    "plt.show()"
   ]
  },
  {
   "cell_type": "code",
   "execution_count": 28,
   "id": "3d323d18",
   "metadata": {},
   "outputs": [],
   "source": [
    "a = df.loc[df['gangjong'] == 'a', 'time']\n",
    "b = df.loc[df['gangjong'] == 'b', 'time']\n",
    "c = df.loc[df['gangjong'] == 'c', 'time']\n",
    "d = df.loc[df['gangjong'] == 'd', 'time']"
   ]
  },
  {
   "cell_type": "code",
   "execution_count": 29,
   "id": "7e74b317",
   "metadata": {},
   "outputs": [
    {
     "name": "stdout",
     "output_type": "stream",
     "text": [
      "One-way\n",
      " F 통계량 : 4.172\n",
      " p-value : 0.019\n"
     ]
    }
   ],
   "source": [
    "f_result = stats.f_oneway(a,b,c,d)\n",
    "f, p = f_result.statistic.round(3), f_result.pvalue.round(3)\n",
    "\n",
    "print(\"One-way\")\n",
    "print(\" F 통계량 : {}\".format(f))\n",
    "print(\" p-value : {}\".format(p))"
   ]
  },
  {
   "cell_type": "markdown",
   "id": "bca10821",
   "metadata": {},
   "source": [
    "귀무가설 : 강종별로 2차 정련시간의 차이가 없다(같다).\n",
    "\n",
    "대립가설 : 강종별로 2차 정련시간의 차이가 있다.\n",
    "\n",
    "유의수준 5%에서 검정결과 p-value값이 0.019이므로 대립가설을 채택한다.따라서 강종별로 2차 정련시간의 차이가 있다."
   ]
  },
  {
   "cell_type": "markdown",
   "id": "6906fb61",
   "metadata": {},
   "source": [
    "### 타입별로 2차정련 시간에 차이가 있는지 검정"
   ]
  },
  {
   "cell_type": "code",
   "execution_count": 30,
   "id": "5b310341",
   "metadata": {},
   "outputs": [
    {
     "data": {
      "image/png": "[encoded data removed]",
      "text/plain": [
       "<Figure size 640x480 with 1 Axes>"
      ]
     },
     "metadata": {},
     "output_type": "display_data"
    }
   ],
   "source": [
    "type_time = df.groupby('type')['time']\n",
    "\n",
    "df.boxplot(column='time', by=['type'])\n",
    "plt.show()"
   ]
  },
  {
   "cell_type": "code",
   "execution_count": 31,
   "id": "7d7a5056",
   "metadata": {},
   "outputs": [
    {
     "name": "stdout",
     "output_type": "stream",
     "text": [
      "One-way\n",
      " F 통계량 : 9.654\n",
      " p-value : 0.005\n"
     ]
    }
   ],
   "source": [
    "a = df.loc[df['type'] == 'a', 'time']\n",
    "b = df.loc[df['type'] == 'b', 'time']\n",
    "\n",
    "f_result = stats.f_oneway(a,b)\n",
    "f, p = f_result.statistic.round(3), f_result.pvalue.round(3)\n",
    "\n",
    "print(\"One-way\")\n",
    "print(\" F 통계량 : {}\".format(f))\n",
    "print(\" p-value : {}\".format(p))"
   ]
  },
  {
   "cell_type": "markdown",
   "id": "efe19254",
   "metadata": {},
   "source": [
    "귀무가설 : 타입별로 2차정련 시간에 차이가 없다.\n",
    "\n",
    "대립가설 : 타입별로 2차정련 시간에 차이가 있다.\n",
    "\n",
    "검증결과 p-value값이 0.005로 대립가설을 채택한다. 따라서 타입별로 2차정련 시간에 차이가 있다."
   ]
  },
  {
   "cell_type": "markdown",
   "id": "66cf319c",
   "metadata": {},
   "source": [
    "## Correlation Analysis"
   ]
  },
  {
   "cell_type": "code",
   "execution_count": 32,
   "id": "f104fe90",
   "metadata": {},
   "outputs": [
    {
     "name": "stdout",
     "output_type": "stream",
     "text": [
      "Correlation Analysis\n",
      " corr : -0.723\n",
      " p-value : 0.000\n"
     ]
    }
   ],
   "source": [
    "df1 = [37.6, 38.6, 37.2, 36.4, 38.6, 39, 37.2, 36.1, 35.9, 37.1,\n",
    "       36.9, 37.5, 36.3, 38.1, 39, 36.9, 36.8, 37.6, 33, 33.5]\n",
    "df2 = [14, 15, 14, 16, 17, 14, 17, 16, 15, 16, \n",
    "       14, 16, 18, 13, 15, 17, 14, 16, 20, 21]\n",
    "\n",
    "\n",
    "corr , pval = stats.pearsonr(df1, df2)\n",
    "\n",
    "print(\"Correlation Analysis\")\n",
    "print(\" corr : {0:0.3f}\".format(corr))\n",
    "print(\" p-value : {0:0.3f}\".format(pval))"
   ]
  },
  {
   "cell_type": "markdown",
   "id": "67253eec",
   "metadata": {},
   "source": [
    "귀무가설 : 초코칩의 강도와 반죽온도간에 관계가 없다(같다).\n",
    "\n",
    "대립가설 : 초코칩의 강도와 반죽온도간에 관계가 있다.\n",
    "\n",
    "검증결과 p-value값이 0.000이므로 대립가설을 채택한다. 따라서 초코칩의 강도와 반죽온도간에 관계가 있으며 매우 강한 음의 상관성이 있다고 할 수 있다."
   ]
  },
  {
   "cell_type": "code",
   "execution_count": null,
   "id": "3d5deba9",
   "metadata": {},
   "outputs": [],
   "source": []
  },
  {
   "cell_type": "code",
   "execution_count": null,
   "id": "76c7ccb9",
   "metadata": {},
   "outputs": [],
   "source": []
  },
  {
   "cell_type": "code",
   "execution_count": null,
   "id": "da89121f",
   "metadata": {},
   "outputs": [],
   "source": []
  },
  {
   "cell_type": "code",
   "execution_count": null,
   "id": "9b8e3048",
   "metadata": {},
   "outputs": [],
   "source": []
  },
  {
   "cell_type": "code",
   "execution_count": null,
   "id": "81051473",
   "metadata": {},
   "outputs": [],
   "source": []
  },
  {
   "cell_type": "code",
   "execution_count": null,
   "id": "a7016491",
   "metadata": {},
   "outputs": [],
   "source": []
  }
 ],
 "metadata": {
  "kernelspec": {
   "display_name": "Python 3 (ipykernel)",
   "language": "python",
   "name": "python3"
  },
  "language_info": {
   "codemirror_mode": {
    "name": "ipython",
    "version": 3
   },
   "file_extension": ".py",
   "mimetype": "text/x-python",
   "name": "python",
   "nbconvert_exporter": "python",
   "pygments_lexer": "ipython3",
   "version": "3.10.9"
  }
 },
 "nbformat": 4,
 "nbformat_minor": 5
}

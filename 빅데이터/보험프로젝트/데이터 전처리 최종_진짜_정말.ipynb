{
 "cells": [
  {
   "cell_type": "code",
   "execution_count": 1,
   "id": "4a6e6eb9",
   "metadata": {},
   "outputs": [
    {
     "name": "stdout",
     "output_type": "stream",
     "text": [
      "['NanumGothic']\n"
     ]
    }
   ],
   "source": [
    "### 데이터 분석 기본 라이브러리 ---------------------------------------------------------------------\n",
    "import pandas as pd\n",
    "import numpy as np\n",
    "\n",
    "### 시각화 관련 ------------------------------------------------------------------------------------\n",
    "import matplotlib.pyplot as plt\n",
    "import matplotlib # 그래프 inline 결과창에 바로 출력\n",
    "%matplotlib inline\n",
    "\n",
    "import seaborn as sns\n",
    "sns.set_palette('pastel') # 색깔 팔레트 설정\n",
    "\n",
    "### 데이터 전처리 ----------------------------------------------------------------------------------\n",
    "from sklearn.model_selection import train_test_split # 학습용/평가용 데이터 분리\n",
    "from sklearn.preprocessing import StandardScaler, MinMaxScaler, RobustScaler # Scaling\n",
    "\n",
    "### 기본 통계 분석 ---------------------------------------------------------------------------------\n",
    "from scipy import stats # scientific python : 각종 수학, 통계 관련 라이브러리\n",
    "\n",
    "## 1집단 검정 \n",
    "from statsmodels.stats.proportion import proportions_ztest # 비율 z검정\n",
    "\n",
    "## 2집단 검정\n",
    "from scipy.stats import mannwhitneyu # 비모수검정\n",
    "\n",
    "## 3집단 이상 검정\n",
    "from scipy.stats import kruskal # 비모수검정\n",
    "\n",
    "## 회귀분석\n",
    "import statsmodels.formula.api as smf # 선형회귀모델 formula 사용 \n",
    "from statsmodels.api import qqplot, add_constant # 잔차의 정규성 확인 : qqplot, 회귀분석의 상수항 추가 = add_constant\n",
    "from statsmodels.stats.outliers_influence import variance_inflation_factor # 다중공선성 확인\n",
    "from sklearn.linear_model import LinearRegression, Ridge, Lasso, ElasticNet # 선형회귀모형, 능형(릿지), 라쏘, 엘라스틱넷\n",
    "from sklearn.feature_selection import RFE # 변수선택법 : 후진제거법\n",
    "from sklearn.metrics import r2_score # 회귀 평가함수 : 결정계수\n",
    "\n",
    "### 예측/회귀모델 ------------------------------------------------------------------------------------\n",
    "## 의사결정나무/랜덤포레스트 \n",
    "from sklearn.tree import DecisionTreeRegressor # decision tree 모델\n",
    "from sklearn.model_selection import GridSearchCV # 최적 모델, parameter 탐색\n",
    "\n",
    "# 나무 구조 시각화\n",
    "# import graphviz\n",
    "from sklearn.tree import export_graphviz # 그래프 저장용 텍스트 파일 포맷인 .dot 생성 저장\n",
    "\n",
    "from sklearn.ensemble import RandomForestRegressor # 예측/회귀 Random Forest\n",
    "\n",
    "from sklearn.ensemble import GradientBoostingRegressor # 예측/회귀 그래디언트 부스팅 \n",
    "from sklearn.metrics import mean_squared_error, mean_absolute_error # 평가함수\n",
    "\n",
    "\n",
    "### 한글 폰트 적용 - 리눅스 -------------------------------------------------------------------------------\n",
    "import matplotlib.font_manager\n",
    "[f.name for f in matplotlib.font_manager.fontManager.ttflist if 'Nanum' in f.name]\n",
    "plt.rcParams['font.family'] = \"NanumGothic\"\n",
    "matplotlib.rcParams['axes.unicode_minus'] = False\n",
    "\n",
    "### 한글 폰트 적용 - 윈도우 --------------------------------------------------------------------------------\n",
    "# matplotlib 폰트설정\n",
    "# plt.rc('font', family='NanumGothicOTF') # For MacOS\n",
    "plt.rc('font', family='NanumGothic') # For Windows\n",
    "print(plt.rcParams['font.family'])\n",
    "\n",
    "### 경고문 생략 -------------------------------------------------------------------------------------------\n",
    "import warnings\n",
    "warnings.filterwarnings(action = 'ignore')"
   ]
  },
  {
   "cell_type": "markdown",
   "id": "7e297827",
   "metadata": {},
   "source": [
    "# 데이터 전처리"
   ]
  },
  {
   "cell_type": "code",
   "execution_count": 2,
   "id": "d7daf3ca",
   "metadata": {},
   "outputs": [
    {
     "name": "stdout",
     "output_type": "stream",
     "text": [
      "(100233, 16) (100233, 39)\n"
     ]
    }
   ],
   "source": [
    "raw1 = pd.read_csv(\"01_Data_set_대출.csv\", encoding = 'euc=kr')\n",
    "raw2 = pd.read_csv(\"01_Data_set_보험.csv\", encoding = 'euc-kr')\n",
    "print(raw1.shape, raw2.shape)"
   ]
  },
  {
   "cell_type": "code",
   "execution_count": 3,
   "id": "f7fbe427",
   "metadata": {},
   "outputs": [],
   "source": [
    "df_raw = pd.merge(raw1, raw2, left_on = 'CUST_ID', right_on = 'CUST_ID' )"
   ]
  },
  {
   "cell_type": "code",
   "execution_count": 4,
   "id": "4afde382",
   "metadata": {},
   "outputs": [
    {
     "data": {
      "text/html": [
       "<div>\n",
       "<style scoped>\n",
       "    .dataframe tbody tr th:only-of-type {\n",
       "        vertical-align: middle;\n",
       "    }\n",
       "\n",
       "    .dataframe tbody tr th {\n",
       "        vertical-align: top;\n",
       "    }\n",
       "\n",
       "    .dataframe thead th {\n",
       "        text-align: right;\n",
       "    }\n",
       "</style>\n",
       "<table border=\"1\" class=\"dataframe\">\n",
       "  <thead>\n",
       "    <tr style=\"text-align: right;\">\n",
       "      <th></th>\n",
       "      <th>CUST_ID</th>\n",
       "      <th>TARGET</th>\n",
       "      <th>BNK_LNIF_CNT</th>\n",
       "      <th>CPT_LNIF_CNT</th>\n",
       "      <th>SPART_LNIF_CNT</th>\n",
       "      <th>ECT_LNIF_CNT</th>\n",
       "      <th>TOT_LNIF_AMT</th>\n",
       "      <th>TOT_CLIF_AMT</th>\n",
       "      <th>BNK_LNIF_AMT</th>\n",
       "      <th>CPT_LNIF_AMT</th>\n",
       "      <th>...</th>\n",
       "      <th>TOT_PREM</th>\n",
       "      <th>FMLY_TOT_PREM</th>\n",
       "      <th>CNTT_LAMT_CNT</th>\n",
       "      <th>LT1Y_CTLT_CNT</th>\n",
       "      <th>AUTR_FAIL_MCNT</th>\n",
       "      <th>FYCM_PAID_AMT</th>\n",
       "      <th>FMLY_CLAM_CNT</th>\n",
       "      <th>FMLY_PLPY_CNT</th>\n",
       "      <th>AGE</th>\n",
       "      <th>SEX</th>\n",
       "    </tr>\n",
       "  </thead>\n",
       "  <tbody>\n",
       "    <tr>\n",
       "      <th>0</th>\n",
       "      <td>1</td>\n",
       "      <td>0</td>\n",
       "      <td>1</td>\n",
       "      <td>0</td>\n",
       "      <td>0</td>\n",
       "      <td>0</td>\n",
       "      <td>9001</td>\n",
       "      <td>9001</td>\n",
       "      <td>9001</td>\n",
       "      <td>0</td>\n",
       "      <td>...</td>\n",
       "      <td>20000000</td>\n",
       "      <td>20000000</td>\n",
       "      <td>0</td>\n",
       "      <td>0</td>\n",
       "      <td>10</td>\n",
       "      <td>0</td>\n",
       "      <td>0</td>\n",
       "      <td>0</td>\n",
       "      <td>50</td>\n",
       "      <td>1</td>\n",
       "    </tr>\n",
       "    <tr>\n",
       "      <th>1</th>\n",
       "      <td>2</td>\n",
       "      <td>0</td>\n",
       "      <td>1</td>\n",
       "      <td>0</td>\n",
       "      <td>0</td>\n",
       "      <td>0</td>\n",
       "      <td>24001</td>\n",
       "      <td>0</td>\n",
       "      <td>24001</td>\n",
       "      <td>0</td>\n",
       "      <td>...</td>\n",
       "      <td>7000000</td>\n",
       "      <td>36000000</td>\n",
       "      <td>0</td>\n",
       "      <td>0</td>\n",
       "      <td>0</td>\n",
       "      <td>300000</td>\n",
       "      <td>2</td>\n",
       "      <td>5</td>\n",
       "      <td>50</td>\n",
       "      <td>1</td>\n",
       "    </tr>\n",
       "    <tr>\n",
       "      <th>2</th>\n",
       "      <td>3</td>\n",
       "      <td>0</td>\n",
       "      <td>0</td>\n",
       "      <td>1</td>\n",
       "      <td>3</td>\n",
       "      <td>2</td>\n",
       "      <td>15001</td>\n",
       "      <td>9001</td>\n",
       "      <td>0</td>\n",
       "      <td>3001</td>\n",
       "      <td>...</td>\n",
       "      <td>11000000</td>\n",
       "      <td>11000000</td>\n",
       "      <td>0</td>\n",
       "      <td>0</td>\n",
       "      <td>0</td>\n",
       "      <td>0</td>\n",
       "      <td>0</td>\n",
       "      <td>2</td>\n",
       "      <td>60</td>\n",
       "      <td>2</td>\n",
       "    </tr>\n",
       "    <tr>\n",
       "      <th>3</th>\n",
       "      <td>4</td>\n",
       "      <td>1</td>\n",
       "      <td>0</td>\n",
       "      <td>2</td>\n",
       "      <td>4</td>\n",
       "      <td>2</td>\n",
       "      <td>6001</td>\n",
       "      <td>3001</td>\n",
       "      <td>0</td>\n",
       "      <td>3001</td>\n",
       "      <td>...</td>\n",
       "      <td>4000000</td>\n",
       "      <td>4000000</td>\n",
       "      <td>0</td>\n",
       "      <td>0</td>\n",
       "      <td>0</td>\n",
       "      <td>0</td>\n",
       "      <td>0</td>\n",
       "      <td>1</td>\n",
       "      <td>35</td>\n",
       "      <td>1</td>\n",
       "    </tr>\n",
       "    <tr>\n",
       "      <th>4</th>\n",
       "      <td>5</td>\n",
       "      <td>0</td>\n",
       "      <td>4</td>\n",
       "      <td>0</td>\n",
       "      <td>0</td>\n",
       "      <td>0</td>\n",
       "      <td>21001</td>\n",
       "      <td>15001</td>\n",
       "      <td>21001</td>\n",
       "      <td>0</td>\n",
       "      <td>...</td>\n",
       "      <td>4000000</td>\n",
       "      <td>4000000</td>\n",
       "      <td>0</td>\n",
       "      <td>0</td>\n",
       "      <td>0</td>\n",
       "      <td>500000</td>\n",
       "      <td>2</td>\n",
       "      <td>1</td>\n",
       "      <td>45</td>\n",
       "      <td>1</td>\n",
       "    </tr>\n",
       "    <tr>\n",
       "      <th>...</th>\n",
       "      <td>...</td>\n",
       "      <td>...</td>\n",
       "      <td>...</td>\n",
       "      <td>...</td>\n",
       "      <td>...</td>\n",
       "      <td>...</td>\n",
       "      <td>...</td>\n",
       "      <td>...</td>\n",
       "      <td>...</td>\n",
       "      <td>...</td>\n",
       "      <td>...</td>\n",
       "      <td>...</td>\n",
       "      <td>...</td>\n",
       "      <td>...</td>\n",
       "      <td>...</td>\n",
       "      <td>...</td>\n",
       "      <td>...</td>\n",
       "      <td>...</td>\n",
       "      <td>...</td>\n",
       "      <td>...</td>\n",
       "      <td>...</td>\n",
       "    </tr>\n",
       "    <tr>\n",
       "      <th>100228</th>\n",
       "      <td>102248</td>\n",
       "      <td>0</td>\n",
       "      <td>1</td>\n",
       "      <td>0</td>\n",
       "      <td>2</td>\n",
       "      <td>2</td>\n",
       "      <td>75001</td>\n",
       "      <td>15001</td>\n",
       "      <td>57001</td>\n",
       "      <td>0</td>\n",
       "      <td>...</td>\n",
       "      <td>58000000</td>\n",
       "      <td>70000000</td>\n",
       "      <td>0</td>\n",
       "      <td>0</td>\n",
       "      <td>1</td>\n",
       "      <td>700000</td>\n",
       "      <td>0</td>\n",
       "      <td>3</td>\n",
       "      <td>55</td>\n",
       "      <td>2</td>\n",
       "    </tr>\n",
       "    <tr>\n",
       "      <th>100229</th>\n",
       "      <td>102249</td>\n",
       "      <td>0</td>\n",
       "      <td>2</td>\n",
       "      <td>0</td>\n",
       "      <td>0</td>\n",
       "      <td>0</td>\n",
       "      <td>54001</td>\n",
       "      <td>9001</td>\n",
       "      <td>54001</td>\n",
       "      <td>0</td>\n",
       "      <td>...</td>\n",
       "      <td>37000000</td>\n",
       "      <td>45000000</td>\n",
       "      <td>0</td>\n",
       "      <td>0</td>\n",
       "      <td>0</td>\n",
       "      <td>100000</td>\n",
       "      <td>0</td>\n",
       "      <td>3</td>\n",
       "      <td>45</td>\n",
       "      <td>2</td>\n",
       "    </tr>\n",
       "    <tr>\n",
       "      <th>100230</th>\n",
       "      <td>102250</td>\n",
       "      <td>0</td>\n",
       "      <td>1</td>\n",
       "      <td>0</td>\n",
       "      <td>0</td>\n",
       "      <td>0</td>\n",
       "      <td>27001</td>\n",
       "      <td>27001</td>\n",
       "      <td>27001</td>\n",
       "      <td>0</td>\n",
       "      <td>...</td>\n",
       "      <td>45000000</td>\n",
       "      <td>54000000</td>\n",
       "      <td>0</td>\n",
       "      <td>0</td>\n",
       "      <td>1</td>\n",
       "      <td>0</td>\n",
       "      <td>0</td>\n",
       "      <td>4</td>\n",
       "      <td>45</td>\n",
       "      <td>1</td>\n",
       "    </tr>\n",
       "    <tr>\n",
       "      <th>100231</th>\n",
       "      <td>102251</td>\n",
       "      <td>0</td>\n",
       "      <td>0</td>\n",
       "      <td>0</td>\n",
       "      <td>1</td>\n",
       "      <td>1</td>\n",
       "      <td>57001</td>\n",
       "      <td>0</td>\n",
       "      <td>0</td>\n",
       "      <td>0</td>\n",
       "      <td>...</td>\n",
       "      <td>1000000</td>\n",
       "      <td>1000000</td>\n",
       "      <td>0</td>\n",
       "      <td>0</td>\n",
       "      <td>0</td>\n",
       "      <td>0</td>\n",
       "      <td>0</td>\n",
       "      <td>0</td>\n",
       "      <td>45</td>\n",
       "      <td>1</td>\n",
       "    </tr>\n",
       "    <tr>\n",
       "      <th>100232</th>\n",
       "      <td>102252</td>\n",
       "      <td>0</td>\n",
       "      <td>1</td>\n",
       "      <td>0</td>\n",
       "      <td>0</td>\n",
       "      <td>0</td>\n",
       "      <td>18001</td>\n",
       "      <td>18001</td>\n",
       "      <td>18001</td>\n",
       "      <td>0</td>\n",
       "      <td>...</td>\n",
       "      <td>22000000</td>\n",
       "      <td>29000000</td>\n",
       "      <td>0</td>\n",
       "      <td>0</td>\n",
       "      <td>0</td>\n",
       "      <td>2900000</td>\n",
       "      <td>0</td>\n",
       "      <td>2</td>\n",
       "      <td>55</td>\n",
       "      <td>2</td>\n",
       "    </tr>\n",
       "  </tbody>\n",
       "</table>\n",
       "<p>100233 rows × 54 columns</p>\n",
       "</div>"
      ],
      "text/plain": [
       "        CUST_ID  TARGET  BNK_LNIF_CNT  CPT_LNIF_CNT  SPART_LNIF_CNT  \\\n",
       "0             1       0             1             0               0   \n",
       "1             2       0             1             0               0   \n",
       "2             3       0             0             1               3   \n",
       "3             4       1             0             2               4   \n",
       "4             5       0             4             0               0   \n",
       "...         ...     ...           ...           ...             ...   \n",
       "100228   102248       0             1             0               2   \n",
       "100229   102249       0             2             0               0   \n",
       "100230   102250       0             1             0               0   \n",
       "100231   102251       0             0             0               1   \n",
       "100232   102252       0             1             0               0   \n",
       "\n",
       "        ECT_LNIF_CNT  TOT_LNIF_AMT  TOT_CLIF_AMT  BNK_LNIF_AMT  CPT_LNIF_AMT  \\\n",
       "0                  0          9001          9001          9001             0   \n",
       "1                  0         24001             0         24001             0   \n",
       "2                  2         15001          9001             0          3001   \n",
       "3                  2          6001          3001             0          3001   \n",
       "4                  0         21001         15001         21001             0   \n",
       "...              ...           ...           ...           ...           ...   \n",
       "100228             2         75001         15001         57001             0   \n",
       "100229             0         54001          9001         54001             0   \n",
       "100230             0         27001         27001         27001             0   \n",
       "100231             1         57001             0             0             0   \n",
       "100232             0         18001         18001         18001             0   \n",
       "\n",
       "        ...  TOT_PREM  FMLY_TOT_PREM  CNTT_LAMT_CNT  LT1Y_CTLT_CNT  \\\n",
       "0       ...  20000000       20000000              0              0   \n",
       "1       ...   7000000       36000000              0              0   \n",
       "2       ...  11000000       11000000              0              0   \n",
       "3       ...   4000000        4000000              0              0   \n",
       "4       ...   4000000        4000000              0              0   \n",
       "...     ...       ...            ...            ...            ...   \n",
       "100228  ...  58000000       70000000              0              0   \n",
       "100229  ...  37000000       45000000              0              0   \n",
       "100230  ...  45000000       54000000              0              0   \n",
       "100231  ...   1000000        1000000              0              0   \n",
       "100232  ...  22000000       29000000              0              0   \n",
       "\n",
       "        AUTR_FAIL_MCNT  FYCM_PAID_AMT FMLY_CLAM_CNT  FMLY_PLPY_CNT  AGE  SEX  \n",
       "0                   10              0             0              0   50    1  \n",
       "1                    0         300000             2              5   50    1  \n",
       "2                    0              0             0              2   60    2  \n",
       "3                    0              0             0              1   35    1  \n",
       "4                    0         500000             2              1   45    1  \n",
       "...                ...            ...           ...            ...  ...  ...  \n",
       "100228               1         700000             0              3   55    2  \n",
       "100229               0         100000             0              3   45    2  \n",
       "100230               1              0             0              4   45    1  \n",
       "100231               0              0             0              0   45    1  \n",
       "100232               0        2900000             0              2   55    2  \n",
       "\n",
       "[100233 rows x 54 columns]"
      ]
     },
     "execution_count": 4,
     "metadata": {},
     "output_type": "execute_result"
    }
   ],
   "source": [
    "df_raw"
   ]
  },
  {
   "cell_type": "code",
   "execution_count": 5,
   "id": "f39e2f78",
   "metadata": {},
   "outputs": [
    {
     "data": {
      "text/plain": [
       "(100233, 54)"
      ]
     },
     "execution_count": 5,
     "metadata": {},
     "output_type": "execute_result"
    }
   ],
   "source": [
    "df = df_raw.copy()\n",
    "df.shape"
   ]
  },
  {
   "cell_type": "markdown",
   "id": "facc0fd7",
   "metadata": {},
   "source": [
    "## 대출정보 현재 총 금액 < 대출정보 현재 총 금액(은행) + 대출정보 현재 총 금액(카드사/할부사/캐피탈) 데이터 삭제"
   ]
  },
  {
   "cell_type": "code",
   "execution_count": 6,
   "id": "1be91cda",
   "metadata": {},
   "outputs": [
    {
     "name": "stdout",
     "output_type": "stream",
     "text": [
      "45\n"
     ]
    },
    {
     "data": {
      "text/plain": [
       "(100188, 54)"
      ]
     },
     "execution_count": 6,
     "metadata": {},
     "output_type": "execute_result"
    }
   ],
   "source": [
    "print(len(df[df['TOT_LNIF_AMT'] - (df['BNK_LNIF_AMT'] + df['CPT_LNIF_AMT']) < -2]))\n",
    "df.drop(df[df['TOT_LNIF_AMT'] - (df['BNK_LNIF_AMT'] + df['CPT_LNIF_AMT']) < -2].index, axis = 0, inplace = True)\n",
    "df.shape"
   ]
  },
  {
   "cell_type": "markdown",
   "id": "e7ae3e09",
   "metadata": {},
   "source": [
    "## OCCP_NAME_G : *표시(1189) -> null까지 합해서 알 수 없음으로 묶기"
   ]
  },
  {
   "cell_type": "code",
   "execution_count": 7,
   "id": "248ca457",
   "metadata": {
    "scrolled": false
   },
   "outputs": [
    {
     "data": {
      "text/plain": [
       "1650"
      ]
     },
     "execution_count": 7,
     "metadata": {},
     "output_type": "execute_result"
    }
   ],
   "source": [
    "len(df[df['OCCP_NAME_G'] == '*']) + df['OCCP_NAME_G'].isnull().sum()"
   ]
  },
  {
   "cell_type": "code",
   "execution_count": 8,
   "id": "42dda3d8",
   "metadata": {
    "scrolled": true
   },
   "outputs": [],
   "source": [
    "df['OCCP_NAME_G'].fillna('정보없음', inplace = True)"
   ]
  },
  {
   "cell_type": "code",
   "execution_count": 9,
   "id": "10e93640",
   "metadata": {},
   "outputs": [],
   "source": [
    "df['OCCP_NAME_G'].replace('*', '정보없음', inplace = True)"
   ]
  },
  {
   "cell_type": "code",
   "execution_count": 10,
   "id": "86f59e10",
   "metadata": {},
   "outputs": [
    {
     "data": {
      "text/plain": [
       "주부          27553\n",
       "사무직         16573\n",
       "2차산업 종사자     9596\n",
       "자영업          9481\n",
       "3차산업 종사자     8272\n",
       "공무원          5090\n",
       "전문직          5043\n",
       "단순 사무직       4105\n",
       "학생           3833\n",
       "운전직          2124\n",
       "기타           1671\n",
       "정보없음         1650\n",
       "고소득 전문직      1223\n",
       "1차산업 종사자     1177\n",
       "기업/단체 임원     1041\n",
       "예체능계 종사자      935\n",
       "단순 노무직        821\n",
       "Name: OCCP_NAME_G, dtype: int64"
      ]
     },
     "execution_count": 10,
     "metadata": {},
     "output_type": "execute_result"
    }
   ],
   "source": [
    "df['OCCP_NAME_G'].value_counts()"
   ]
  },
  {
   "cell_type": "markdown",
   "id": "958a268e",
   "metadata": {},
   "source": [
    "## (직업(OCCP_NAME_G) != 주부, 학생, 기타) & (소득(CUST_JOB_INCM) == 0) - 직업별 소득 0 제외 중앙값"
   ]
  },
  {
   "cell_type": "code",
   "execution_count": 11,
   "id": "3c9e452e",
   "metadata": {
    "scrolled": true
   },
   "outputs": [
    {
     "name": "stdout",
     "output_type": "stream",
     "text": [
      "7341\n"
     ]
    },
    {
     "data": {
      "text/plain": [
       "(100188, 54)"
      ]
     },
     "execution_count": 11,
     "metadata": {},
     "output_type": "execute_result"
    }
   ],
   "source": [
    "print(len(df[(~df['OCCP_NAME_G'].isin(['주부', '학생', '기타'])) & (df['CUST_JOB_INCM'] == 0)]))\n",
    "# df.drop(df[(~df['OCCP_NAME_G'].isin(['주부', '학생', '기타'])) & (df['CUST_JOB_INCM'] == 0)].index, axis = 0, inplace = True)\n",
    "df.shape"
   ]
  },
  {
   "cell_type": "code",
   "execution_count": 12,
   "id": "26794bce",
   "metadata": {
    "scrolled": true
   },
   "outputs": [
    {
     "data": {
      "text/plain": [
       "주부    27504\n",
       "학생     3806\n",
       "기타     1671\n",
       "Name: OCCP_NAME_G, dtype: int64"
      ]
     },
     "execution_count": 12,
     "metadata": {},
     "output_type": "execute_result"
    }
   ],
   "source": [
    "# Calculate median by OCCP_NAME_G\n",
    "median_by_occup = df.groupby('OCCP_NAME_G')['CUST_JOB_INCM'].median()\n",
    "\n",
    "# Replace CUST_JOB_INCM with median for OCCP_NAME_G groups where OCCP_NAME_G != ['주부', '학생', '기타'] and CUST_JOB_INCM == 0\n",
    "df.loc[(~df['OCCP_NAME_G'].isin(['주부', '학생', '기타'])) & (df['CUST_JOB_INCM'] == 0), 'CUST_JOB_INCM'] = df.loc[(~df['OCCP_NAME_G'].isin(['주부', '학생', '기타'])) & (df['CUST_JOB_INCM'] == 0), 'OCCP_NAME_G'].map(median_by_occup)\n",
    "\n",
    "# 확인\n",
    "df[df['CUST_JOB_INCM'] == 0]['OCCP_NAME_G'].value_counts()"
   ]
  },
  {
   "cell_type": "code",
   "execution_count": 13,
   "id": "26f2491e",
   "metadata": {
    "scrolled": true
   },
   "outputs": [],
   "source": [
    "# df.groupby('OCCP_NAME_G').apply(lambda x : x.sort_values(by='CUST_JOB_INCM').head(5))['CUST_JOB_INCM']"
   ]
  },
  {
   "cell_type": "code",
   "execution_count": 14,
   "id": "e8a0a54a",
   "metadata": {
    "scrolled": true
   },
   "outputs": [],
   "source": [
    "# pd.DataFrame(df.groupby('OCCP_NAME_G').apply(lambda x : x.sort_values(by='CUST_JOB_INCM'))['CUST_JOB_INCM']).index"
   ]
  },
  {
   "cell_type": "code",
   "execution_count": 15,
   "id": "02ff7fe1",
   "metadata": {},
   "outputs": [],
   "source": [
    "# pd.DataFrame(df.groupby('OCCP_NAME_G')['CUST_JOB_INCM'])[lambda x : x[0]=='공무원'][1].values[0]"
   ]
  },
  {
   "cell_type": "markdown",
   "id": "63258bec",
   "metadata": {},
   "source": [
    "## 직업기반추정소득(CUST_JOB_INCM) > 가계합산추정소득(HSHD_INFR_INCM) - 둘 중 max로 대체 : 가계합산추정소득만 남김 ~ TOT_INCM_drvd"
   ]
  },
  {
   "cell_type": "code",
   "execution_count": 16,
   "id": "5866b6bb",
   "metadata": {},
   "outputs": [
    {
     "name": "stdout",
     "output_type": "stream",
     "text": [
      "2780\n"
     ]
    },
    {
     "data": {
      "text/plain": [
       "(100188, 54)"
      ]
     },
     "execution_count": 16,
     "metadata": {},
     "output_type": "execute_result"
    }
   ],
   "source": [
    "print(len(df[df['CUST_JOB_INCM'] > df['HSHD_INFR_INCM']]))\n",
    "df.shape"
   ]
  },
  {
   "cell_type": "code",
   "execution_count": 17,
   "id": "97be6b42",
   "metadata": {},
   "outputs": [
    {
     "data": {
      "text/plain": [
       "(100188, 53)"
      ]
     },
     "execution_count": 17,
     "metadata": {},
     "output_type": "execute_result"
    }
   ],
   "source": [
    "df['TOT_INCM_drvd'] = df[['CUST_JOB_INCM', 'HSHD_INFR_INCM']].max(axis = 1)\n",
    "df.drop(['CUST_JOB_INCM', 'HSHD_INFR_INCM'], axis = 1, inplace = True)\n",
    "df.shape"
   ]
  },
  {
   "cell_type": "markdown",
   "id": "fa243aa8",
   "metadata": {},
   "source": [
    "## (실가족원수(ACTL_FMLY_NUM) == 1명) & (배우자 직업(MATE_OCCP_NAME_G) 존재) 삭제"
   ]
  },
  {
   "cell_type": "code",
   "execution_count": 18,
   "id": "b01c2365",
   "metadata": {},
   "outputs": [
    {
     "name": "stdout",
     "output_type": "stream",
     "text": [
      "3\n"
     ]
    },
    {
     "data": {
      "text/plain": [
       "(100185, 53)"
      ]
     },
     "execution_count": 18,
     "metadata": {},
     "output_type": "execute_result"
    }
   ],
   "source": [
    "print(len((df[(df['ACTL_FMLY_NUM'] == 1) & (~df['MATE_OCCP_NAME_G'].isnull())])))\n",
    "df.drop(df[(df['ACTL_FMLY_NUM'] == 1) & (~df['MATE_OCCP_NAME_G'].isnull())].index, axis = 0, inplace = True)\n",
    "df.shape"
   ]
  },
  {
   "cell_type": "markdown",
   "id": "969f3d59",
   "metadata": {},
   "source": [
    "## (실가족원수(ACTL_FMLY_NUM) == 2명) & (배우자 직업(MATE_OCCP_NAME_G) 존재) & (막내 자녀 나이(LAST_CHLD_AGE) > 0) 삭제"
   ]
  },
  {
   "cell_type": "code",
   "execution_count": 19,
   "id": "6b3eb8d5",
   "metadata": {
    "scrolled": true
   },
   "outputs": [
    {
     "name": "stdout",
     "output_type": "stream",
     "text": [
      "2\n"
     ]
    },
    {
     "data": {
      "text/plain": [
       "(100183, 53)"
      ]
     },
     "execution_count": 19,
     "metadata": {},
     "output_type": "execute_result"
    }
   ],
   "source": [
    "print(len((df[(df['ACTL_FMLY_NUM'] == 2) & (~df['MATE_OCCP_NAME_G'].isnull()) & (df['LAST_CHLD_AGE'] > 0)])))\n",
    "df.drop(df[(df['ACTL_FMLY_NUM'] == 2) & (~df['MATE_OCCP_NAME_G'].isnull()) & (df['LAST_CHLD_AGE'] > 0)].index, axis = 0, inplace = True)\n",
    "df.shape"
   ]
  },
  {
   "cell_type": "markdown",
   "id": "211abb68",
   "metadata": {},
   "source": [
    "## MATE_OCCP_NAME_G : 결측 비율 매우 높으므로 변수 제외"
   ]
  },
  {
   "cell_type": "code",
   "execution_count": 20,
   "id": "4afc5343",
   "metadata": {},
   "outputs": [],
   "source": [
    "df.drop('MATE_OCCP_NAME_G', axis = 1, inplace = True)"
   ]
  },
  {
   "cell_type": "code",
   "execution_count": 21,
   "id": "058fbe6e",
   "metadata": {},
   "outputs": [
    {
     "data": {
      "text/plain": [
       "(100183, 52)"
      ]
     },
     "execution_count": 21,
     "metadata": {},
     "output_type": "execute_result"
    }
   ],
   "source": [
    "df.shape"
   ]
  },
  {
   "cell_type": "markdown",
   "id": "949454ec",
   "metadata": {},
   "source": [
    "## (보험금 청구 건수 = 0) & (보험금 지급 총액 존재) 경우 - 보험금 지급 총액이 건수보다 더 많은 정보의 영향을 줄 것으로 생각해서 건수를 제외하고 지급 총액만 사용"
   ]
  },
  {
   "cell_type": "code",
   "execution_count": 22,
   "id": "bb4a96c4",
   "metadata": {},
   "outputs": [
    {
     "data": {
      "text/plain": [
       "7539"
      ]
     },
     "execution_count": 22,
     "metadata": {},
     "output_type": "execute_result"
    }
   ],
   "source": [
    "len(df[['FMLY_CLAM_CNT', 'FYCM_PAID_AMT']][(df['FMLY_CLAM_CNT'] == 0) & (df['FYCM_PAID_AMT'] > 0)])"
   ]
  },
  {
   "cell_type": "code",
   "execution_count": 23,
   "id": "38afc7e0",
   "metadata": {
    "scrolled": false
   },
   "outputs": [
    {
     "data": {
      "text/plain": [
       "(100183, 51)"
      ]
     },
     "execution_count": 23,
     "metadata": {},
     "output_type": "execute_result"
    }
   ],
   "source": [
    "df.drop('FMLY_CLAM_CNT', axis = 1, inplace = True)\n",
    "df.shape"
   ]
  },
  {
   "cell_type": "markdown",
   "id": "df6b2612",
   "metadata": {},
   "source": [
    "## GDINS_MON_PREM, FMLY_GDINS_MNPREM - 9999 삭제"
   ]
  },
  {
   "cell_type": "code",
   "execution_count": 24,
   "id": "5e74f4a7",
   "metadata": {},
   "outputs": [],
   "source": [
    "df.drop(df[df['GDINS_MON_PREM'] == 9999].index, axis = 0, inplace = True)"
   ]
  },
  {
   "cell_type": "code",
   "execution_count": 25,
   "id": "ccba1824",
   "metadata": {},
   "outputs": [],
   "source": [
    "df.drop(df[df['FMLY_GDINS_MNPREM'] == 9999].index, axis = 0, inplace = True)"
   ]
  },
  {
   "cell_type": "code",
   "execution_count": 26,
   "id": "f4ee48c1",
   "metadata": {},
   "outputs": [
    {
     "data": {
      "text/plain": [
       "(100068, 51)"
      ]
     },
     "execution_count": 26,
     "metadata": {},
     "output_type": "execute_result"
    }
   ],
   "source": [
    "df.shape"
   ]
  },
  {
   "cell_type": "markdown",
   "id": "a9bd1897",
   "metadata": {},
   "source": [
    "## 전체 결측값 drop"
   ]
  },
  {
   "cell_type": "code",
   "execution_count": 27,
   "id": "bc1e9a37",
   "metadata": {},
   "outputs": [
    {
     "data": {
      "text/plain": [
       "CUST_ID                 0\n",
       "TARGET                  0\n",
       "BNK_LNIF_CNT            0\n",
       "CPT_LNIF_CNT            0\n",
       "SPART_LNIF_CNT          0\n",
       "ECT_LNIF_CNT            0\n",
       "TOT_LNIF_AMT            0\n",
       "TOT_CLIF_AMT            0\n",
       "BNK_LNIF_AMT            0\n",
       "CPT_LNIF_AMT            0\n",
       "CRDT_OCCR_MDIF          0\n",
       "SPTCT_OCCR_MDIF         0\n",
       "CRDT_CARD_CNT           0\n",
       "CTCD_OCCR_MDIF          0\n",
       "CB_GUIF_CNT             0\n",
       "CB_GUIF_AMT             0\n",
       "OCCP_NAME_G             0\n",
       "ACTL_FMLY_NUM           0\n",
       "CUST_FMLY_NUM           0\n",
       "LAST_CHLD_AGE        1025\n",
       "MATE_JOB_INCM           0\n",
       "CRDT_LOAN_CNT           0\n",
       "MIN_CNTT_DATE           0\n",
       "TOT_CRLN_AMT            0\n",
       "TOT_REPY_AMT            0\n",
       "CRLN_OVDU_RATE          0\n",
       "CRLN_30OVDU_RATE        0\n",
       "LT1Y_CLOD_RATE          0\n",
       "STRT_CRDT_GRAD          0\n",
       "LTST_CRDT_GRAD          0\n",
       "PREM_OVDU_RATE          0\n",
       "LT1Y_PEOD_RATE          0\n",
       "AVG_STLN_RATE           0\n",
       "STLN_REMN_AMT           0\n",
       "LT1Y_STLN_AMT           0\n",
       "LT1Y_SLOD_RATE          0\n",
       "GDINS_MON_PREM          0\n",
       "SVINS_MON_PREM          0\n",
       "FMLY_GDINS_MNPREM       0\n",
       "FMLY_SVINS_MNPREM       0\n",
       "MAX_MON_PREM            0\n",
       "TOT_PREM                0\n",
       "FMLY_TOT_PREM           0\n",
       "CNTT_LAMT_CNT           0\n",
       "LT1Y_CTLT_CNT           0\n",
       "AUTR_FAIL_MCNT          0\n",
       "FYCM_PAID_AMT           0\n",
       "FMLY_PLPY_CNT           0\n",
       "AGE                     0\n",
       "SEX                     0\n",
       "TOT_INCM_drvd           0\n",
       "dtype: int64"
      ]
     },
     "execution_count": 27,
     "metadata": {},
     "output_type": "execute_result"
    }
   ],
   "source": [
    "df.isnull().sum()"
   ]
  },
  {
   "cell_type": "code",
   "execution_count": 28,
   "id": "c655736e",
   "metadata": {},
   "outputs": [
    {
     "data": {
      "text/plain": [
       "(99043, 51)"
      ]
     },
     "execution_count": 28,
     "metadata": {},
     "output_type": "execute_result"
    }
   ],
   "source": [
    "df.dropna(inplace = True)\n",
    "df.shape"
   ]
  },
  {
   "cell_type": "code",
   "execution_count": 29,
   "id": "d76d9558",
   "metadata": {},
   "outputs": [
    {
     "name": "stdout",
     "output_type": "stream",
     "text": [
      "drop 비율은 : 1.0725010725010726\n"
     ]
    }
   ],
   "source": [
    "print(\"drop 비율은 : {}\".format((100233-99158)/100233 * 100))"
   ]
  },
  {
   "cell_type": "markdown",
   "id": "f1533d9c",
   "metadata": {},
   "source": [
    "## 무의미한 변수 SEX 삭제"
   ]
  },
  {
   "cell_type": "code",
   "execution_count": 30,
   "id": "8b53df89",
   "metadata": {},
   "outputs": [
    {
     "data": {
      "text/plain": [
       "(99043, 50)"
      ]
     },
     "execution_count": 30,
     "metadata": {},
     "output_type": "execute_result"
    }
   ],
   "source": [
    "df.drop('SEX', axis = 1, inplace = True)\n",
    "df.shape"
   ]
  },
  {
   "cell_type": "markdown",
   "id": "78c8dd5c",
   "metadata": {},
   "source": [
    "## 단위 스케일링 1 : 만 단위 - 0.1 스케일링(천 단위로)\n",
    "* CUST_JOB_INCM, HSHD_INFR_INCM 는 삭제\n",
    "* TOT_INCM_drvd, MATE_JOB_INCM"
   ]
  },
  {
   "cell_type": "code",
   "execution_count": 31,
   "id": "8ef0c4b1",
   "metadata": {},
   "outputs": [
    {
     "data": {
      "text/html": [
       "<div>\n",
       "<style scoped>\n",
       "    .dataframe tbody tr th:only-of-type {\n",
       "        vertical-align: middle;\n",
       "    }\n",
       "\n",
       "    .dataframe tbody tr th {\n",
       "        vertical-align: top;\n",
       "    }\n",
       "\n",
       "    .dataframe thead th {\n",
       "        text-align: right;\n",
       "    }\n",
       "</style>\n",
       "<table border=\"1\" class=\"dataframe\">\n",
       "  <thead>\n",
       "    <tr style=\"text-align: right;\">\n",
       "      <th></th>\n",
       "      <th>TOT_INCM_drvd</th>\n",
       "      <th>MATE_JOB_INCM</th>\n",
       "    </tr>\n",
       "  </thead>\n",
       "  <tbody>\n",
       "    <tr>\n",
       "      <th>count</th>\n",
       "      <td>99043.000000</td>\n",
       "      <td>99043.000000</td>\n",
       "    </tr>\n",
       "    <tr>\n",
       "      <th>mean</th>\n",
       "      <td>6952.646830</td>\n",
       "      <td>1706.033743</td>\n",
       "    </tr>\n",
       "    <tr>\n",
       "      <th>std</th>\n",
       "      <td>2911.574444</td>\n",
       "      <td>2453.475937</td>\n",
       "    </tr>\n",
       "    <tr>\n",
       "      <th>min</th>\n",
       "      <td>0.000000</td>\n",
       "      <td>0.000000</td>\n",
       "    </tr>\n",
       "    <tr>\n",
       "      <th>25%</th>\n",
       "      <td>4800.000000</td>\n",
       "      <td>0.000000</td>\n",
       "    </tr>\n",
       "    <tr>\n",
       "      <th>50%</th>\n",
       "      <td>6600.000000</td>\n",
       "      <td>0.000000</td>\n",
       "    </tr>\n",
       "    <tr>\n",
       "      <th>75%</th>\n",
       "      <td>9200.000000</td>\n",
       "      <td>4400.000000</td>\n",
       "    </tr>\n",
       "    <tr>\n",
       "      <th>max</th>\n",
       "      <td>20000.000000</td>\n",
       "      <td>10000.000000</td>\n",
       "    </tr>\n",
       "  </tbody>\n",
       "</table>\n",
       "</div>"
      ],
      "text/plain": [
       "       TOT_INCM_drvd  MATE_JOB_INCM\n",
       "count   99043.000000   99043.000000\n",
       "mean     6952.646830    1706.033743\n",
       "std      2911.574444    2453.475937\n",
       "min         0.000000       0.000000\n",
       "25%      4800.000000       0.000000\n",
       "50%      6600.000000       0.000000\n",
       "75%      9200.000000    4400.000000\n",
       "max     20000.000000   10000.000000"
      ]
     },
     "execution_count": 31,
     "metadata": {},
     "output_type": "execute_result"
    }
   ],
   "source": [
    "df[['TOT_INCM_drvd', 'MATE_JOB_INCM']].describe()"
   ]
  },
  {
   "cell_type": "code",
   "execution_count": 32,
   "id": "e2395109",
   "metadata": {},
   "outputs": [],
   "source": [
    "df['TOT_INCM_drvd'] = df['TOT_INCM_drvd'] * 10\n",
    "df['MATE_JOB_INCM'] = df['MATE_JOB_INCM'] * 10 "
   ]
  },
  {
   "cell_type": "code",
   "execution_count": 33,
   "id": "b38e6c55",
   "metadata": {},
   "outputs": [
    {
     "data": {
      "text/html": [
       "<div>\n",
       "<style scoped>\n",
       "    .dataframe tbody tr th:only-of-type {\n",
       "        vertical-align: middle;\n",
       "    }\n",
       "\n",
       "    .dataframe tbody tr th {\n",
       "        vertical-align: top;\n",
       "    }\n",
       "\n",
       "    .dataframe thead th {\n",
       "        text-align: right;\n",
       "    }\n",
       "</style>\n",
       "<table border=\"1\" class=\"dataframe\">\n",
       "  <thead>\n",
       "    <tr style=\"text-align: right;\">\n",
       "      <th></th>\n",
       "      <th>TOT_INCM_drvd</th>\n",
       "      <th>MATE_JOB_INCM</th>\n",
       "    </tr>\n",
       "  </thead>\n",
       "  <tbody>\n",
       "    <tr>\n",
       "      <th>count</th>\n",
       "      <td>99043.000000</td>\n",
       "      <td>99043.000000</td>\n",
       "    </tr>\n",
       "    <tr>\n",
       "      <th>mean</th>\n",
       "      <td>695.264683</td>\n",
       "      <td>170.603374</td>\n",
       "    </tr>\n",
       "    <tr>\n",
       "      <th>std</th>\n",
       "      <td>291.157444</td>\n",
       "      <td>245.347594</td>\n",
       "    </tr>\n",
       "    <tr>\n",
       "      <th>min</th>\n",
       "      <td>0.000000</td>\n",
       "      <td>0.000000</td>\n",
       "    </tr>\n",
       "    <tr>\n",
       "      <th>25%</th>\n",
       "      <td>480.000000</td>\n",
       "      <td>0.000000</td>\n",
       "    </tr>\n",
       "    <tr>\n",
       "      <th>50%</th>\n",
       "      <td>660.000000</td>\n",
       "      <td>0.000000</td>\n",
       "    </tr>\n",
       "    <tr>\n",
       "      <th>75%</th>\n",
       "      <td>920.000000</td>\n",
       "      <td>440.000000</td>\n",
       "    </tr>\n",
       "    <tr>\n",
       "      <th>max</th>\n",
       "      <td>2000.000000</td>\n",
       "      <td>1000.000000</td>\n",
       "    </tr>\n",
       "  </tbody>\n",
       "</table>\n",
       "</div>"
      ],
      "text/plain": [
       "       TOT_INCM_drvd  MATE_JOB_INCM\n",
       "count   99043.000000   99043.000000\n",
       "mean      695.264683     170.603374\n",
       "std       291.157444     245.347594\n",
       "min         0.000000       0.000000\n",
       "25%       480.000000       0.000000\n",
       "50%       660.000000       0.000000\n",
       "75%       920.000000     440.000000\n",
       "max      2000.000000    1000.000000"
      ]
     },
     "execution_count": 33,
     "metadata": {},
     "output_type": "execute_result"
    }
   ],
   "source": [
    "df[['TOT_INCM_drvd', 'MATE_JOB_INCM']].describe()"
   ]
  },
  {
   "cell_type": "markdown",
   "id": "a6781c0d",
   "metadata": {},
   "source": [
    "## 단위 스케일링 1 : 원 단위 - 0.001 스케일링(천 단위로)\n",
    "* TOT_CRLN_AMT, TOT_REPY_AMT, STLN_REMN_AMT, LT1Y_STLN_AMT, GDINS_MON_PREM, SVINS_MON_PREM, FMLY_GDINS_MNPREM, FMLY_SVINS_MNPREM, MAX_MON_PREM, TOT_PREM, FMLY_TOT_PREM, FYCM_PAID_AMT"
   ]
  },
  {
   "cell_type": "code",
   "execution_count": 34,
   "id": "38581d43",
   "metadata": {},
   "outputs": [
    {
     "data": {
      "text/html": [
       "<div>\n",
       "<style scoped>\n",
       "    .dataframe tbody tr th:only-of-type {\n",
       "        vertical-align: middle;\n",
       "    }\n",
       "\n",
       "    .dataframe tbody tr th {\n",
       "        vertical-align: top;\n",
       "    }\n",
       "\n",
       "    .dataframe thead th {\n",
       "        text-align: right;\n",
       "    }\n",
       "</style>\n",
       "<table border=\"1\" class=\"dataframe\">\n",
       "  <thead>\n",
       "    <tr style=\"text-align: right;\">\n",
       "      <th></th>\n",
       "      <th>TOT_CRLN_AMT</th>\n",
       "      <th>TOT_REPY_AMT</th>\n",
       "      <th>STLN_REMN_AMT</th>\n",
       "      <th>LT1Y_STLN_AMT</th>\n",
       "      <th>GDINS_MON_PREM</th>\n",
       "      <th>SVINS_MON_PREM</th>\n",
       "      <th>FMLY_GDINS_MNPREM</th>\n",
       "      <th>FMLY_SVINS_MNPREM</th>\n",
       "      <th>MAX_MON_PREM</th>\n",
       "      <th>TOT_PREM</th>\n",
       "      <th>FMLY_TOT_PREM</th>\n",
       "      <th>FYCM_PAID_AMT</th>\n",
       "    </tr>\n",
       "  </thead>\n",
       "  <tbody>\n",
       "    <tr>\n",
       "      <th>count</th>\n",
       "      <td>9.904300e+04</td>\n",
       "      <td>9.904300e+04</td>\n",
       "      <td>9.904300e+04</td>\n",
       "      <td>9.904300e+04</td>\n",
       "      <td>9.904300e+04</td>\n",
       "      <td>9.904300e+04</td>\n",
       "      <td>9.904300e+04</td>\n",
       "      <td>9.904300e+04</td>\n",
       "      <td>9.904300e+04</td>\n",
       "      <td>9.904300e+04</td>\n",
       "      <td>9.904300e+04</td>\n",
       "      <td>9.904300e+04</td>\n",
       "    </tr>\n",
       "    <tr>\n",
       "      <th>mean</th>\n",
       "      <td>1.186838e+06</td>\n",
       "      <td>8.722474e+05</td>\n",
       "      <td>1.608342e+06</td>\n",
       "      <td>9.299395e+05</td>\n",
       "      <td>1.278234e+05</td>\n",
       "      <td>9.157316e+04</td>\n",
       "      <td>1.839067e+05</td>\n",
       "      <td>1.353834e+05</td>\n",
       "      <td>3.725648e+05</td>\n",
       "      <td>2.060784e+07</td>\n",
       "      <td>3.051774e+07</td>\n",
       "      <td>4.039330e+06</td>\n",
       "    </tr>\n",
       "    <tr>\n",
       "      <th>std</th>\n",
       "      <td>5.330996e+06</td>\n",
       "      <td>4.376060e+06</td>\n",
       "      <td>5.786210e+06</td>\n",
       "      <td>5.767218e+06</td>\n",
       "      <td>2.346149e+05</td>\n",
       "      <td>3.144181e+05</td>\n",
       "      <td>3.178767e+05</td>\n",
       "      <td>4.967319e+05</td>\n",
       "      <td>6.996788e+05</td>\n",
       "      <td>4.433047e+07</td>\n",
       "      <td>6.337024e+07</td>\n",
       "      <td>1.458617e+07</td>\n",
       "    </tr>\n",
       "    <tr>\n",
       "      <th>min</th>\n",
       "      <td>0.000000e+00</td>\n",
       "      <td>0.000000e+00</td>\n",
       "      <td>0.000000e+00</td>\n",
       "      <td>0.000000e+00</td>\n",
       "      <td>0.000000e+00</td>\n",
       "      <td>0.000000e+00</td>\n",
       "      <td>0.000000e+00</td>\n",
       "      <td>0.000000e+00</td>\n",
       "      <td>0.000000e+00</td>\n",
       "      <td>0.000000e+00</td>\n",
       "      <td>0.000000e+00</td>\n",
       "      <td>0.000000e+00</td>\n",
       "    </tr>\n",
       "    <tr>\n",
       "      <th>25%</th>\n",
       "      <td>0.000000e+00</td>\n",
       "      <td>0.000000e+00</td>\n",
       "      <td>0.000000e+00</td>\n",
       "      <td>0.000000e+00</td>\n",
       "      <td>0.000000e+00</td>\n",
       "      <td>0.000000e+00</td>\n",
       "      <td>0.000000e+00</td>\n",
       "      <td>0.000000e+00</td>\n",
       "      <td>7.000000e+04</td>\n",
       "      <td>5.000000e+06</td>\n",
       "      <td>6.000000e+06</td>\n",
       "      <td>0.000000e+00</td>\n",
       "    </tr>\n",
       "    <tr>\n",
       "      <th>50%</th>\n",
       "      <td>0.000000e+00</td>\n",
       "      <td>0.000000e+00</td>\n",
       "      <td>0.000000e+00</td>\n",
       "      <td>0.000000e+00</td>\n",
       "      <td>5.000000e+04</td>\n",
       "      <td>0.000000e+00</td>\n",
       "      <td>8.000000e+04</td>\n",
       "      <td>0.000000e+00</td>\n",
       "      <td>1.900000e+05</td>\n",
       "      <td>1.100000e+07</td>\n",
       "      <td>1.500000e+07</td>\n",
       "      <td>3.000000e+05</td>\n",
       "    </tr>\n",
       "    <tr>\n",
       "      <th>75%</th>\n",
       "      <td>0.000000e+00</td>\n",
       "      <td>0.000000e+00</td>\n",
       "      <td>0.000000e+00</td>\n",
       "      <td>0.000000e+00</td>\n",
       "      <td>1.600000e+05</td>\n",
       "      <td>0.000000e+00</td>\n",
       "      <td>2.300000e+05</td>\n",
       "      <td>1.000000e+05</td>\n",
       "      <td>3.900000e+05</td>\n",
       "      <td>2.300000e+07</td>\n",
       "      <td>3.400000e+07</td>\n",
       "      <td>1.900000e+06</td>\n",
       "    </tr>\n",
       "    <tr>\n",
       "      <th>max</th>\n",
       "      <td>1.010000e+08</td>\n",
       "      <td>1.010000e+08</td>\n",
       "      <td>1.010000e+08</td>\n",
       "      <td>1.010000e+08</td>\n",
       "      <td>4.000000e+06</td>\n",
       "      <td>4.000000e+06</td>\n",
       "      <td>4.000000e+06</td>\n",
       "      <td>1.000000e+07</td>\n",
       "      <td>1.000000e+07</td>\n",
       "      <td>1.000000e+09</td>\n",
       "      <td>1.000000e+09</td>\n",
       "      <td>3.001000e+08</td>\n",
       "    </tr>\n",
       "  </tbody>\n",
       "</table>\n",
       "</div>"
      ],
      "text/plain": [
       "       TOT_CRLN_AMT  TOT_REPY_AMT  STLN_REMN_AMT  LT1Y_STLN_AMT  \\\n",
       "count  9.904300e+04  9.904300e+04   9.904300e+04   9.904300e+04   \n",
       "mean   1.186838e+06  8.722474e+05   1.608342e+06   9.299395e+05   \n",
       "std    5.330996e+06  4.376060e+06   5.786210e+06   5.767218e+06   \n",
       "min    0.000000e+00  0.000000e+00   0.000000e+00   0.000000e+00   \n",
       "25%    0.000000e+00  0.000000e+00   0.000000e+00   0.000000e+00   \n",
       "50%    0.000000e+00  0.000000e+00   0.000000e+00   0.000000e+00   \n",
       "75%    0.000000e+00  0.000000e+00   0.000000e+00   0.000000e+00   \n",
       "max    1.010000e+08  1.010000e+08   1.010000e+08   1.010000e+08   \n",
       "\n",
       "       GDINS_MON_PREM  SVINS_MON_PREM  FMLY_GDINS_MNPREM  FMLY_SVINS_MNPREM  \\\n",
       "count    9.904300e+04    9.904300e+04       9.904300e+04       9.904300e+04   \n",
       "mean     1.278234e+05    9.157316e+04       1.839067e+05       1.353834e+05   \n",
       "std      2.346149e+05    3.144181e+05       3.178767e+05       4.967319e+05   \n",
       "min      0.000000e+00    0.000000e+00       0.000000e+00       0.000000e+00   \n",
       "25%      0.000000e+00    0.000000e+00       0.000000e+00       0.000000e+00   \n",
       "50%      5.000000e+04    0.000000e+00       8.000000e+04       0.000000e+00   \n",
       "75%      1.600000e+05    0.000000e+00       2.300000e+05       1.000000e+05   \n",
       "max      4.000000e+06    4.000000e+06       4.000000e+06       1.000000e+07   \n",
       "\n",
       "       MAX_MON_PREM      TOT_PREM  FMLY_TOT_PREM  FYCM_PAID_AMT  \n",
       "count  9.904300e+04  9.904300e+04   9.904300e+04   9.904300e+04  \n",
       "mean   3.725648e+05  2.060784e+07   3.051774e+07   4.039330e+06  \n",
       "std    6.996788e+05  4.433047e+07   6.337024e+07   1.458617e+07  \n",
       "min    0.000000e+00  0.000000e+00   0.000000e+00   0.000000e+00  \n",
       "25%    7.000000e+04  5.000000e+06   6.000000e+06   0.000000e+00  \n",
       "50%    1.900000e+05  1.100000e+07   1.500000e+07   3.000000e+05  \n",
       "75%    3.900000e+05  2.300000e+07   3.400000e+07   1.900000e+06  \n",
       "max    1.000000e+07  1.000000e+09   1.000000e+09   3.001000e+08  "
      ]
     },
     "execution_count": 34,
     "metadata": {},
     "output_type": "execute_result"
    }
   ],
   "source": [
    "df[['TOT_CRLN_AMT', 'TOT_REPY_AMT', 'STLN_REMN_AMT', 'LT1Y_STLN_AMT', 'GDINS_MON_PREM', 'SVINS_MON_PREM', 'FMLY_GDINS_MNPREM', \n",
    "    'FMLY_SVINS_MNPREM', 'MAX_MON_PREM', 'TOT_PREM', 'FMLY_TOT_PREM', 'FYCM_PAID_AMT']].describe()"
   ]
  },
  {
   "cell_type": "code",
   "execution_count": 35,
   "id": "c19170cc",
   "metadata": {},
   "outputs": [],
   "source": [
    "df['TOT_CRLN_AMT'] = df['TOT_CRLN_AMT'] * 0.001 \n",
    "df['TOT_REPY_AMT'] = df['TOT_REPY_AMT'] * 0.001 \n",
    "df['STLN_REMN_AMT'] = df['STLN_REMN_AMT'] * 0.001 \n",
    "df['LT1Y_STLN_AMT'] = df['LT1Y_STLN_AMT'] * 0.001 \n",
    "df['GDINS_MON_PREM'] = df['GDINS_MON_PREM'] * 0.001 \n",
    "df['SVINS_MON_PREM'] = df['SVINS_MON_PREM'] * 0.001 \n",
    "df['FMLY_GDINS_MNPREM'] = df['FMLY_GDINS_MNPREM'] * 0.001 \n",
    "df['FMLY_SVINS_MNPREM'] = df['FMLY_SVINS_MNPREM'] * 0.001 \n",
    "df['MAX_MON_PREM'] = df['MAX_MON_PREM'] * 0.001 \n",
    "df['TOT_PREM'] = df['TOT_PREM'] * 0.001 \n",
    "df['FMLY_TOT_PREM'] = df['FMLY_TOT_PREM'] * 0.001 \n",
    "df['FYCM_PAID_AMT'] = df['FYCM_PAID_AMT'] * 0.001 "
   ]
  },
  {
   "cell_type": "code",
   "execution_count": 36,
   "id": "697658ac",
   "metadata": {
    "scrolled": false
   },
   "outputs": [
    {
     "data": {
      "text/html": [
       "<div>\n",
       "<style scoped>\n",
       "    .dataframe tbody tr th:only-of-type {\n",
       "        vertical-align: middle;\n",
       "    }\n",
       "\n",
       "    .dataframe tbody tr th {\n",
       "        vertical-align: top;\n",
       "    }\n",
       "\n",
       "    .dataframe thead th {\n",
       "        text-align: right;\n",
       "    }\n",
       "</style>\n",
       "<table border=\"1\" class=\"dataframe\">\n",
       "  <thead>\n",
       "    <tr style=\"text-align: right;\">\n",
       "      <th></th>\n",
       "      <th>TOT_CRLN_AMT</th>\n",
       "      <th>TOT_REPY_AMT</th>\n",
       "      <th>STLN_REMN_AMT</th>\n",
       "      <th>LT1Y_STLN_AMT</th>\n",
       "      <th>GDINS_MON_PREM</th>\n",
       "      <th>SVINS_MON_PREM</th>\n",
       "      <th>FMLY_GDINS_MNPREM</th>\n",
       "      <th>FMLY_SVINS_MNPREM</th>\n",
       "      <th>MAX_MON_PREM</th>\n",
       "      <th>TOT_PREM</th>\n",
       "      <th>FMLY_TOT_PREM</th>\n",
       "      <th>FYCM_PAID_AMT</th>\n",
       "    </tr>\n",
       "  </thead>\n",
       "  <tbody>\n",
       "    <tr>\n",
       "      <th>count</th>\n",
       "      <td>99043.000000</td>\n",
       "      <td>99043.000000</td>\n",
       "      <td>99043.000000</td>\n",
       "      <td>99043.000000</td>\n",
       "      <td>99043.000000</td>\n",
       "      <td>99043.000000</td>\n",
       "      <td>99043.000000</td>\n",
       "      <td>99043.000000</td>\n",
       "      <td>99043.000000</td>\n",
       "      <td>99043.000000</td>\n",
       "      <td>99043.000000</td>\n",
       "      <td>99043.000000</td>\n",
       "    </tr>\n",
       "    <tr>\n",
       "      <th>mean</th>\n",
       "      <td>1186.838040</td>\n",
       "      <td>872.247408</td>\n",
       "      <td>1608.341831</td>\n",
       "      <td>929.939521</td>\n",
       "      <td>127.823370</td>\n",
       "      <td>91.573155</td>\n",
       "      <td>183.906687</td>\n",
       "      <td>135.383419</td>\n",
       "      <td>372.564845</td>\n",
       "      <td>20607.837000</td>\n",
       "      <td>30517.744818</td>\n",
       "      <td>4039.330392</td>\n",
       "    </tr>\n",
       "    <tr>\n",
       "      <th>std</th>\n",
       "      <td>5330.995645</td>\n",
       "      <td>4376.060045</td>\n",
       "      <td>5786.209676</td>\n",
       "      <td>5767.218310</td>\n",
       "      <td>234.614855</td>\n",
       "      <td>314.418118</td>\n",
       "      <td>317.876737</td>\n",
       "      <td>496.731909</td>\n",
       "      <td>699.678754</td>\n",
       "      <td>44330.465504</td>\n",
       "      <td>63370.243828</td>\n",
       "      <td>14586.167229</td>\n",
       "    </tr>\n",
       "    <tr>\n",
       "      <th>min</th>\n",
       "      <td>0.000000</td>\n",
       "      <td>0.000000</td>\n",
       "      <td>0.000000</td>\n",
       "      <td>0.000000</td>\n",
       "      <td>0.000000</td>\n",
       "      <td>0.000000</td>\n",
       "      <td>0.000000</td>\n",
       "      <td>0.000000</td>\n",
       "      <td>0.000000</td>\n",
       "      <td>0.000000</td>\n",
       "      <td>0.000000</td>\n",
       "      <td>0.000000</td>\n",
       "    </tr>\n",
       "    <tr>\n",
       "      <th>25%</th>\n",
       "      <td>0.000000</td>\n",
       "      <td>0.000000</td>\n",
       "      <td>0.000000</td>\n",
       "      <td>0.000000</td>\n",
       "      <td>0.000000</td>\n",
       "      <td>0.000000</td>\n",
       "      <td>0.000000</td>\n",
       "      <td>0.000000</td>\n",
       "      <td>70.000000</td>\n",
       "      <td>5000.000000</td>\n",
       "      <td>6000.000000</td>\n",
       "      <td>0.000000</td>\n",
       "    </tr>\n",
       "    <tr>\n",
       "      <th>50%</th>\n",
       "      <td>0.000000</td>\n",
       "      <td>0.000000</td>\n",
       "      <td>0.000000</td>\n",
       "      <td>0.000000</td>\n",
       "      <td>50.000000</td>\n",
       "      <td>0.000000</td>\n",
       "      <td>80.000000</td>\n",
       "      <td>0.000000</td>\n",
       "      <td>190.000000</td>\n",
       "      <td>11000.000000</td>\n",
       "      <td>15000.000000</td>\n",
       "      <td>300.000000</td>\n",
       "    </tr>\n",
       "    <tr>\n",
       "      <th>75%</th>\n",
       "      <td>0.000000</td>\n",
       "      <td>0.000000</td>\n",
       "      <td>0.000000</td>\n",
       "      <td>0.000000</td>\n",
       "      <td>160.000000</td>\n",
       "      <td>0.000000</td>\n",
       "      <td>230.000000</td>\n",
       "      <td>100.000000</td>\n",
       "      <td>390.000000</td>\n",
       "      <td>23000.000000</td>\n",
       "      <td>34000.000000</td>\n",
       "      <td>1900.000000</td>\n",
       "    </tr>\n",
       "    <tr>\n",
       "      <th>max</th>\n",
       "      <td>101000.000000</td>\n",
       "      <td>101000.000000</td>\n",
       "      <td>101000.000000</td>\n",
       "      <td>101000.000000</td>\n",
       "      <td>4000.000000</td>\n",
       "      <td>4000.000000</td>\n",
       "      <td>4000.000000</td>\n",
       "      <td>10000.000000</td>\n",
       "      <td>10000.000000</td>\n",
       "      <td>1000000.000000</td>\n",
       "      <td>1000000.000000</td>\n",
       "      <td>300100.000000</td>\n",
       "    </tr>\n",
       "  </tbody>\n",
       "</table>\n",
       "</div>"
      ],
      "text/plain": [
       "        TOT_CRLN_AMT   TOT_REPY_AMT  STLN_REMN_AMT  LT1Y_STLN_AMT  \\\n",
       "count   99043.000000   99043.000000   99043.000000   99043.000000   \n",
       "mean     1186.838040     872.247408    1608.341831     929.939521   \n",
       "std      5330.995645    4376.060045    5786.209676    5767.218310   \n",
       "min         0.000000       0.000000       0.000000       0.000000   \n",
       "25%         0.000000       0.000000       0.000000       0.000000   \n",
       "50%         0.000000       0.000000       0.000000       0.000000   \n",
       "75%         0.000000       0.000000       0.000000       0.000000   \n",
       "max    101000.000000  101000.000000  101000.000000  101000.000000   \n",
       "\n",
       "       GDINS_MON_PREM  SVINS_MON_PREM  FMLY_GDINS_MNPREM  FMLY_SVINS_MNPREM  \\\n",
       "count    99043.000000    99043.000000       99043.000000       99043.000000   \n",
       "mean       127.823370       91.573155         183.906687         135.383419   \n",
       "std        234.614855      314.418118         317.876737         496.731909   \n",
       "min          0.000000        0.000000           0.000000           0.000000   \n",
       "25%          0.000000        0.000000           0.000000           0.000000   \n",
       "50%         50.000000        0.000000          80.000000           0.000000   \n",
       "75%        160.000000        0.000000         230.000000         100.000000   \n",
       "max       4000.000000     4000.000000        4000.000000       10000.000000   \n",
       "\n",
       "       MAX_MON_PREM        TOT_PREM   FMLY_TOT_PREM  FYCM_PAID_AMT  \n",
       "count  99043.000000    99043.000000    99043.000000   99043.000000  \n",
       "mean     372.564845    20607.837000    30517.744818    4039.330392  \n",
       "std      699.678754    44330.465504    63370.243828   14586.167229  \n",
       "min        0.000000        0.000000        0.000000       0.000000  \n",
       "25%       70.000000     5000.000000     6000.000000       0.000000  \n",
       "50%      190.000000    11000.000000    15000.000000     300.000000  \n",
       "75%      390.000000    23000.000000    34000.000000    1900.000000  \n",
       "max    10000.000000  1000000.000000  1000000.000000  300100.000000  "
      ]
     },
     "execution_count": 36,
     "metadata": {},
     "output_type": "execute_result"
    }
   ],
   "source": [
    "df[['TOT_CRLN_AMT', 'TOT_REPY_AMT', 'STLN_REMN_AMT', 'LT1Y_STLN_AMT', 'GDINS_MON_PREM', 'SVINS_MON_PREM', 'FMLY_GDINS_MNPREM', \n",
    "    'FMLY_SVINS_MNPREM', 'MAX_MON_PREM', 'TOT_PREM', 'FMLY_TOT_PREM', 'FYCM_PAID_AMT']].describe()"
   ]
  },
  {
   "cell_type": "code",
   "execution_count": 37,
   "id": "fcdb9934",
   "metadata": {},
   "outputs": [
    {
     "name": "stdout",
     "output_type": "stream",
     "text": [
      "<class 'pandas.core.frame.DataFrame'>\n",
      "Int64Index: 99043 entries, 0 to 100232\n",
      "Data columns (total 50 columns):\n",
      " #   Column             Non-Null Count  Dtype  \n",
      "---  ------             --------------  -----  \n",
      " 0   CUST_ID            99043 non-null  int64  \n",
      " 1   TARGET             99043 non-null  int64  \n",
      " 2   BNK_LNIF_CNT       99043 non-null  int64  \n",
      " 3   CPT_LNIF_CNT       99043 non-null  int64  \n",
      " 4   SPART_LNIF_CNT     99043 non-null  int64  \n",
      " 5   ECT_LNIF_CNT       99043 non-null  int64  \n",
      " 6   TOT_LNIF_AMT       99043 non-null  int64  \n",
      " 7   TOT_CLIF_AMT       99043 non-null  int64  \n",
      " 8   BNK_LNIF_AMT       99043 non-null  int64  \n",
      " 9   CPT_LNIF_AMT       99043 non-null  int64  \n",
      " 10  CRDT_OCCR_MDIF     99043 non-null  int64  \n",
      " 11  SPTCT_OCCR_MDIF    99043 non-null  int64  \n",
      " 12  CRDT_CARD_CNT      99043 non-null  int64  \n",
      " 13  CTCD_OCCR_MDIF     99043 non-null  int64  \n",
      " 14  CB_GUIF_CNT        99043 non-null  int64  \n",
      " 15  CB_GUIF_AMT        99043 non-null  int64  \n",
      " 16  OCCP_NAME_G        99043 non-null  object \n",
      " 17  ACTL_FMLY_NUM      99043 non-null  int64  \n",
      " 18  CUST_FMLY_NUM      99043 non-null  int64  \n",
      " 19  LAST_CHLD_AGE      99043 non-null  float64\n",
      " 20  MATE_JOB_INCM      99043 non-null  float64\n",
      " 21  CRDT_LOAN_CNT      99043 non-null  int64  \n",
      " 22  MIN_CNTT_DATE      99043 non-null  int64  \n",
      " 23  TOT_CRLN_AMT       99043 non-null  float64\n",
      " 24  TOT_REPY_AMT       99043 non-null  float64\n",
      " 25  CRLN_OVDU_RATE     99043 non-null  int64  \n",
      " 26  CRLN_30OVDU_RATE   99043 non-null  int64  \n",
      " 27  LT1Y_CLOD_RATE     99043 non-null  int64  \n",
      " 28  STRT_CRDT_GRAD     99043 non-null  int64  \n",
      " 29  LTST_CRDT_GRAD     99043 non-null  int64  \n",
      " 30  PREM_OVDU_RATE     99043 non-null  int64  \n",
      " 31  LT1Y_PEOD_RATE     99043 non-null  object \n",
      " 32  AVG_STLN_RATE      99043 non-null  int64  \n",
      " 33  STLN_REMN_AMT      99043 non-null  float64\n",
      " 34  LT1Y_STLN_AMT      99043 non-null  float64\n",
      " 35  LT1Y_SLOD_RATE     99043 non-null  int64  \n",
      " 36  GDINS_MON_PREM     99043 non-null  float64\n",
      " 37  SVINS_MON_PREM     99043 non-null  float64\n",
      " 38  FMLY_GDINS_MNPREM  99043 non-null  float64\n",
      " 39  FMLY_SVINS_MNPREM  99043 non-null  float64\n",
      " 40  MAX_MON_PREM       99043 non-null  float64\n",
      " 41  TOT_PREM           99043 non-null  float64\n",
      " 42  FMLY_TOT_PREM      99043 non-null  float64\n",
      " 43  CNTT_LAMT_CNT      99043 non-null  int64  \n",
      " 44  LT1Y_CTLT_CNT      99043 non-null  int64  \n",
      " 45  AUTR_FAIL_MCNT     99043 non-null  int64  \n",
      " 46  FYCM_PAID_AMT      99043 non-null  float64\n",
      " 47  FMLY_PLPY_CNT      99043 non-null  int64  \n",
      " 48  AGE                99043 non-null  object \n",
      " 49  TOT_INCM_drvd      99043 non-null  float64\n",
      "dtypes: float64(15), int64(32), object(3)\n",
      "memory usage: 38.5+ MB\n"
     ]
    }
   ],
   "source": [
    "df.info()"
   ]
  },
  {
   "cell_type": "markdown",
   "id": "44107679",
   "metadata": {},
   "source": [
    "## 비연금저축상품월납입보험료(GDINS_MON_PREM) > 가구비연금저축상품월납입보험료(FMLY_GDINS_MNPREM) - 둘 중 max로 대체 : 가구비연금저축상품월납보험료만 남김 ~ FMLY_GDINS_MNPREM_drvd"
   ]
  },
  {
   "cell_type": "code",
   "execution_count": 38,
   "id": "dfaee95d",
   "metadata": {},
   "outputs": [
    {
     "name": "stdout",
     "output_type": "stream",
     "text": [
      "0\n"
     ]
    },
    {
     "data": {
      "text/plain": [
       "(99043, 50)"
      ]
     },
     "execution_count": 38,
     "metadata": {},
     "output_type": "execute_result"
    }
   ],
   "source": [
    "print(len(df[df['GDINS_MON_PREM'] > df['FMLY_GDINS_MNPREM']]))\n",
    "df.shape"
   ]
  },
  {
   "cell_type": "code",
   "execution_count": 39,
   "id": "18a278e8",
   "metadata": {},
   "outputs": [
    {
     "data": {
      "text/plain": [
       "(99043, 49)"
      ]
     },
     "execution_count": 39,
     "metadata": {},
     "output_type": "execute_result"
    }
   ],
   "source": [
    "df['FMLY_GDINS_MNPREM_drvd'] = df[['GDINS_MON_PREM', 'FMLY_GDINS_MNPREM']].max(axis = 1)\n",
    "df.drop(['GDINS_MON_PREM', 'FMLY_GDINS_MNPREM'], axis = 1, inplace = True)\n",
    "df.shape"
   ]
  },
  {
   "cell_type": "markdown",
   "id": "e688e4d9",
   "metadata": {},
   "source": [
    "## 연금저축상품월납입보험료(SVINS_MON_PREM) > 가구연금저축상품월납입보험료(FMLY_SVINS_MNPREM) - 둘 중 max로 대체 : 가구연금저축상품월납보험료만 남김 ~ FMLY_SVINS_MNPREM_drvd"
   ]
  },
  {
   "cell_type": "code",
   "execution_count": 40,
   "id": "ee83a352",
   "metadata": {},
   "outputs": [
    {
     "name": "stdout",
     "output_type": "stream",
     "text": [
      "0\n"
     ]
    },
    {
     "data": {
      "text/plain": [
       "(99043, 49)"
      ]
     },
     "execution_count": 40,
     "metadata": {},
     "output_type": "execute_result"
    }
   ],
   "source": [
    "print(len(df[df['SVINS_MON_PREM'] > df['FMLY_SVINS_MNPREM']]))\n",
    "df.shape"
   ]
  },
  {
   "cell_type": "code",
   "execution_count": 41,
   "id": "ba772d4c",
   "metadata": {},
   "outputs": [
    {
     "data": {
      "text/plain": [
       "(99043, 48)"
      ]
     },
     "execution_count": 41,
     "metadata": {},
     "output_type": "execute_result"
    }
   ],
   "source": [
    "df['FMLY_SVINS_MNPREM_drvd'] = df[['SVINS_MON_PREM', 'FMLY_SVINS_MNPREM']].max(axis = 1)\n",
    "df.drop(['SVINS_MON_PREM', 'FMLY_SVINS_MNPREM'], axis = 1, inplace = True)\n",
    "df.shape"
   ]
  },
  {
   "cell_type": "markdown",
   "id": "5663a021",
   "metadata": {},
   "source": [
    "## 연령(AGE) * 표시 된 것 지우기"
   ]
  },
  {
   "cell_type": "code",
   "execution_count": 42,
   "id": "ad6ae325",
   "metadata": {},
   "outputs": [
    {
     "data": {
      "text/plain": [
       "162"
      ]
     },
     "execution_count": 42,
     "metadata": {},
     "output_type": "execute_result"
    }
   ],
   "source": [
    "len(df[df['AGE'] == '*'])"
   ]
  },
  {
   "cell_type": "code",
   "execution_count": 43,
   "id": "953c44e7",
   "metadata": {},
   "outputs": [
    {
     "data": {
      "text/plain": [
       "(98881, 48)"
      ]
     },
     "execution_count": 43,
     "metadata": {},
     "output_type": "execute_result"
    }
   ],
   "source": [
    "df.drop(df[df['AGE'] == '*'].index, axis = 0, inplace = True)\n",
    "df.shape"
   ]
  },
  {
   "cell_type": "markdown",
   "id": "e256206d",
   "metadata": {},
   "source": [
    "## 제거 비율"
   ]
  },
  {
   "cell_type": "code",
   "execution_count": 44,
   "id": "3d34ee45",
   "metadata": {},
   "outputs": [
    {
     "name": "stdout",
     "output_type": "stream",
     "text": [
      "전처리 후 관측치 제거 비율은 0.013488571628106513\n"
     ]
    }
   ],
   "source": [
    "print(\"전처리 후 관측치 제거 비율은 {}\".format((len(df_raw) - len(df))/len(df_raw)))"
   ]
  }
 ],
 "metadata": {
  "kernelspec": {
   "display_name": "Python 3 (ipykernel)",
   "language": "python",
   "name": "python3"
  },
  "language_info": {
   "codemirror_mode": {
    "name": "ipython",
    "version": 3
   },
   "file_extension": ".py",
   "mimetype": "text/x-python",
   "name": "python",
   "nbconvert_exporter": "python",
   "pygments_lexer": "ipython3",
   "version": "3.9.12"
  },
  "toc": {
   "base_numbering": 1,
   "nav_menu": {},
   "number_sections": true,
   "sideBar": true,
   "skip_h1_title": false,
   "title_cell": "Table of Contents",
   "title_sidebar": "Contents",
   "toc_cell": false,
   "toc_position": {
    "height": "calc(100% - 180px)",
    "left": "10px",
    "top": "150px",
    "width": "424.542px"
   },
   "toc_section_display": true,
   "toc_window_display": false
  },
  "varInspector": {
   "cols": {
    "lenName": 16,
    "lenType": 16,
    "lenVar": 40
   },
   "kernels_config": {
    "python": {
     "delete_cmd_postfix": "",
     "delete_cmd_prefix": "del ",
     "library": "var_list.py",
     "varRefreshCmd": "print(var_dic_list())"
    },
    "r": {
     "delete_cmd_postfix": ") ",
     "delete_cmd_prefix": "rm(",
     "library": "var_list.r",
     "varRefreshCmd": "cat(var_dic_list()) "
    }
   },
   "types_to_exclude": [
    "module",
    "function",
    "builtin_function_or_method",
    "instance",
    "_Feature"
   ],
   "window_display": false
  }
 },
 "nbformat": 4,
 "nbformat_minor": 5
}

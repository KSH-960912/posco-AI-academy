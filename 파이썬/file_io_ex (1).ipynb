{
 "cells": [
  {
   "cell_type": "code",
   "execution_count": 4,
   "id": "5a8ccaaf",
   "metadata": {},
   "outputs": [
    {
     "name": "stdout",
     "output_type": "stream",
     "text": [
      "파일명을 입력하세요: test.txt\n",
      "FIRST LINE\n",
      "SECOND LINE\n",
      "THIRD LINE\n"
     ]
    }
   ],
   "source": [
    "import os\n",
    "\n",
    "txt_name = input(\"파일명을 입력하세요: \")\n",
    "if os.path.exists(txt_name):\n",
    "    with open(txt_name, \"r\") as file:\n",
    "        for i in file:\n",
    "            print(i.upper(), end=\"\")\n",
    "else:\n",
    "    print(\"파일이 존재하지 않습니다.\")"
   ]
  },
  {
   "cell_type": "code",
   "execution_count": 3,
   "id": "bf3f7457",
   "metadata": {},
   "outputs": [],
   "source": [
    "import os\n",
    "\n",
    "intext =\"score.txt\"\n",
    "outtext =\"report.txt\"\n",
    "\n",
    "if os.path.exists(intext):\n",
    "    \n",
    "    result = []\n",
    "    fopen = open(intext, \"r\")\n",
    "    fout = open(outtext, \"w\")\n",
    "    \n",
    "    aline = fopen.readlines()\n",
    "    \n",
    "    for i in aline:\n",
    "        line = i.rstrip(\"\\n\").split()\n",
    "        \n",
    "        num = line[0] + \" \"\n",
    "        avg = (int(line[1]) + int(line[2])) / 2\n",
    "        \n",
    "        if avg >= 90:\n",
    "            grade = \"(A)\"\n",
    "        elif avg >= 80:\n",
    "            grade = \"(B)\"\n",
    "        elif avg >= 70:\n",
    "            grade = \"(C)\"\n",
    "        elif avg >= 60:\n",
    "            grade = \"(D)\"\n",
    "        else:\n",
    "            grade = \"(F)\"\n",
    "        \n",
    "        fout.write(num)\n",
    "        fout.write(str(avg))\n",
    "        fout.write(grade)\n",
    "        fout.write(\"\\n\")\n",
    "            \n",
    "fopen.close()\n",
    "fout.close()"
   ]
  },
  {
   "cell_type": "code",
   "execution_count": null,
   "id": "f1993867",
   "metadata": {},
   "outputs": [],
   "source": []
  },
  {
   "cell_type": "code",
   "execution_count": null,
   "id": "1cfd5e48",
   "metadata": {},
   "outputs": [],
   "source": []
  },
  {
   "cell_type": "code",
   "execution_count": null,
   "id": "2e0a3b01",
   "metadata": {},
   "outputs": [],
   "source": []
  }
 ],
 "metadata": {
  "kernelspec": {
   "display_name": "Python 3 (ipykernel)",
   "language": "python",
   "name": "python3"
  },
  "language_info": {
   "codemirror_mode": {
    "name": "ipython",
    "version": 3
   },
   "file_extension": ".py",
   "mimetype": "text/x-python",
   "name": "python",
   "nbconvert_exporter": "python",
   "pygments_lexer": "ipython3",
   "version": "3.10.9"
  }
 },
 "nbformat": 4,
 "nbformat_minor": 5
}

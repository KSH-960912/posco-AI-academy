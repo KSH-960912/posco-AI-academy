{
 "cells": [
  {
   "cell_type": "code",
   "execution_count": 2,
   "metadata": {},
   "outputs": [
    {
     "name": "stdout",
     "output_type": "stream",
     "text": [
      "Hello world\n"
     ]
    }
   ],
   "source": [
    "print('Hello world')"
   ]
  },
  {
   "cell_type": "code",
   "execution_count": 20,
   "metadata": {},
   "outputs": [
    {
     "name": "stdout",
     "output_type": "stream",
     "text": [
      "<class 'set'>\n",
      "['H', 'e', 'l', 'l', 'o', 'H', 'e', 'l', 'l', 'o']\n",
      "{'l', 'e', 'o', 'H'}\n"
     ]
    }
   ],
   "source": [
    "s1 = set([1,2,3])\n",
    "s2 = {3,4,5}\n",
    "\n",
    "print(type(s2))\n",
    "\n",
    "word = \"Hello\" * 2\n",
    "word\n",
    "\n",
    "wordlist = list(word)\n",
    "print(wordlist)\n",
    "\n",
    "\n",
    "s3 = set(wordlist)\n",
    "s3\n",
    "\n",
    "s4 = set(\"Hello\")\n",
    "print(s4)"
   ]
  },
  {
   "cell_type": "code",
   "execution_count": 25,
   "metadata": {},
   "outputs": [
    {
     "name": "stdout",
     "output_type": "stream",
     "text": [
      "{1, 2, 3, 4, 5}\n"
     ]
    }
   ],
   "source": [
    "s = {1,2,3,4,5,3,4}\n",
    "#print(s)\n",
    "\n",
    "s.add(10)\n",
    "s\n",
    "\n",
    "\n",
    "s.remove(10)\n",
    "print(s)"
   ]
  },
  {
   "cell_type": "code",
   "execution_count": 53,
   "metadata": {},
   "outputs": [
    {
     "name": "stdout",
     "output_type": "stream",
     "text": [
      "{75, 45, 15, 90, 60, 30}\n"
     ]
    }
   ],
   "source": [
    "result = []\n",
    "for i in range(1, 101):\n",
    "    if i % 3 == 0 and i % 5 == 0:\n",
    "        result.append(i)\n",
    "print(set(result))"
   ]
  },
  {
   "cell_type": "code",
   "execution_count": 57,
   "metadata": {},
   "outputs": [
    {
     "name": "stdout",
     "output_type": "stream",
     "text": [
      "{75, 45, 15, 90, 60, 30}\n",
      "3과 5의 공배수: 6개\n"
     ]
    }
   ],
   "source": [
    "s3 = {i for i in range(3,101,3)}\n",
    "# print(s3)\n",
    "s5 = {i for i in range(5,101,5)}\n",
    "# print(s5)\n",
    "\n",
    "s = s3 & s5\n",
    "\n",
    "print(s)\n",
    "print('3과 5의 공배수: '+ str(len(s))+'개')\n"
   ]
  },
  {
   "cell_type": "code",
   "execution_count": 123,
   "metadata": {},
   "outputs": [
    {
     "name": "stdout",
     "output_type": "stream",
     "text": [
      "{'Kim': 1, 'Park': 2}\n",
      "dict_keys(['Kim', 'Park', 'Youn'])\n",
      "dict_values([3, 2, 1])\n",
      "dict_items([('Kim', 3), ('Park', 2), ('Youn', 1)])\n",
      "{'Park': 2, 'Youn': 1}\n"
     ]
    },
    {
     "data": {
      "text/plain": [
       "{}"
      ]
     },
     "execution_count": 123,
     "metadata": {},
     "output_type": "execute_result"
    }
   ],
   "source": [
    "d = {}\n",
    "d['Kim'] = 1\n",
    "d['Park'] = 2\n",
    "\n",
    "print(d)\n",
    "d['Park']\n",
    "d['Kim'] = 3\n",
    "d['Youn'] = 1\n",
    "print(d.keys())\n",
    "print(d.values())\n",
    "\n",
    "print(d.items())\n",
    "\n",
    "'Kim' in d\n",
    "'Lee' in d\n",
    "\n",
    "del d['Kim']\n",
    "print(d)\n",
    "\n",
    "d.clear()\n",
    "d"
   ]
  },
  {
   "cell_type": "code",
   "execution_count": 84,
   "metadata": {},
   "outputs": [
    {
     "name": "stdout",
     "output_type": "stream",
     "text": [
      "Enter a sentence: Python is fun!\n",
      "{}\n"
     ]
    }
   ],
   "source": [
    "a = input('Enter a sentence: ')\n",
    "\n",
    "d = {}\n",
    "\n",
    "for i in a:\n",
    "    if i in d:\n",
    "        d[i] += 1\n",
    "    else:\n",
    "        d[i] = 1\n",
    "print(d)"
   ]
  },
  {
   "cell_type": "markdown",
   "metadata": {},
   "source": [
    "실습 1"
   ]
  },
  {
   "cell_type": "code",
   "execution_count": 89,
   "metadata": {},
   "outputs": [
    {
     "name": "stdout",
     "output_type": "stream",
     "text": [
      "6 14\n",
      "6 14\n"
     ]
    }
   ],
   "source": [
    "a = [5,5,6,7,8,3]\n",
    "b = 'Life is short.'\n",
    "\n",
    "def my_len(x):\n",
    "    length = 0\n",
    "    for i in x:\n",
    "        length += 1\n",
    "    return length\n",
    "\n",
    "print(len(a), len(b))\n",
    "print(my_len(a),my_len(b))"
   ]
  },
  {
   "cell_type": "markdown",
   "metadata": {},
   "source": [
    "실습 2"
   ]
  },
  {
   "cell_type": "code",
   "execution_count": 101,
   "metadata": {
    "scrolled": true
   },
   "outputs": [
    {
     "name": "stdout",
     "output_type": "stream",
     "text": [
      "6\n",
      "120\n"
     ]
    }
   ],
   "source": [
    "def mult(a, b):\n",
    "    result = 1\n",
    "    for i in range(a, b + 1):\n",
    "        result *= i\n",
    "    return result\n",
    "\n",
    "print(mult(1, 3))\n",
    "print(mult(2, 5))"
   ]
  },
  {
   "cell_type": "markdown",
   "metadata": {},
   "source": [
    "실습 3"
   ]
  },
  {
   "cell_type": "code",
   "execution_count": 107,
   "metadata": {},
   "outputs": [
    {
     "name": "stdout",
     "output_type": "stream",
     "text": [
      "7 -9\n",
      "1 -1\n"
     ]
    }
   ],
   "source": [
    "def sum_pos_neg(l):\n",
    "    pos_sum = 0\n",
    "    neg_sum = 0\n",
    "    for i in l:\n",
    "        if i >= 0:\n",
    "            pos_sum += i\n",
    "        else:\n",
    "            neg_sum += i\n",
    "    return pos_sum, neg_sum\n",
    "\n",
    "possum,negsum = sum_pos_neg([3,4,-6,-3])\n",
    "print(possum,negsum)\n",
    "mylist = [0,0,0,0,0,0,0,0,1,-1]\n",
    "possum2,negsum2 = sum_pos_neg(mylist)\n",
    "print(possum2, negsum2)"
   ]
  },
  {
   "cell_type": "markdown",
   "metadata": {},
   "source": [
    "실습 4"
   ]
  },
  {
   "cell_type": "code",
   "execution_count": 120,
   "metadata": {},
   "outputs": [
    {
     "name": "stdout",
     "output_type": "stream",
     "text": [
      "[1.5, 1.5] [7.5, 5.5] [4.13, 2.72]\n"
     ]
    }
   ],
   "source": [
    "def vector_sum(vector, *vectors):\n",
    "    result = vector[:] #deepcopy\n",
    "    \n",
    "    for v in vectors:\n",
    "        result[0] += v[0] \n",
    "        result[1] += v[1] \n",
    "    \n",
    "    return result\n",
    "\n",
    "\n",
    "v1 = [0,1]\n",
    "v2 = [0.5, 0.5]\n",
    "v3 = [1, 0]\n",
    "v4 = [6, 4]\n",
    "v5 = [3.13, 2.72]\n",
    "m1 = vector_sum(v1, v2, v3)\n",
    "m2 = vector_sum(v1, v2, v3, v4)\n",
    "m3 = vector_sum(v3, v5)\n",
    "print(m1,m2,m3)"
   ]
  },
  {
   "cell_type": "markdown",
   "metadata": {},
   "source": [
    "실습 5"
   ]
  },
  {
   "cell_type": "code",
   "execution_count": 122,
   "metadata": {},
   "outputs": [
    {
     "name": "stdout",
     "output_type": "stream",
     "text": [
      "[1, 1, 2, 2, 3, 5, 9]\n",
      "[0, 4, 6, 9]\n",
      "[0, 0]\n"
     ]
    }
   ],
   "source": [
    "def merge_list(lst1=[0], lst2=[0]):\n",
    "    mlist = lst1 + lst2\n",
    "    sorted_list = sorted(mlist)\n",
    "    return sorted_list # return (sorted(mlist))\n",
    "\n",
    "l = [3, 5, 9, 1, 2]\n",
    "ml1 = merge_list(l,[2,1])\n",
    "ml2 = merge_list([6,9,4])\n",
    "ml3 = merge_list()\n",
    "print(ml1)\n",
    "print(ml2)\n",
    "print(ml3)"
   ]
  },
  {
   "cell_type": "markdown",
   "metadata": {},
   "source": [
    "실습 6"
   ]
  },
  {
   "cell_type": "code",
   "execution_count": 235,
   "metadata": {},
   "outputs": [
    {
     "name": "stdout",
     "output_type": "stream",
     "text": [
      " ** 로또 번호 자동 기입을 시작합니다 **\n",
      "1번째 자동 기입 ==> [31, 34, 21, 3, 16, 27]\n",
      "2번째 자동 기입 ==> [35, 28, 31, 21, 2, 32]\n",
      "3번째 자동 기입 ==> [26, 45, 23, 21, 28, 9]\n",
      "4번째 자동 기입 ==> [44, 19, 1, 24, 3, 45]\n",
      "5번째 자동 기입 ==> [35, 45, 44, 9, 30, 16]\n"
     ]
    }
   ],
   "source": [
    "import random\n",
    "\n",
    "print(' ** 로또 번호 자동 기입을 시작합니다 **')\n",
    "\n",
    "for i in range(5):\n",
    "    num = random.sample(range(1, 46), 6)\n",
    "    print(f\"{i + 1}번째 자동 기입 ==> {num}\")"
   ]
  },
  {
   "cell_type": "markdown",
   "metadata": {},
   "source": [
    "실습 7"
   ]
  },
  {
   "cell_type": "code",
   "execution_count": 241,
   "metadata": {},
   "outputs": [
    {
     "name": "stdout",
     "output_type": "stream",
     "text": [
      "1\n",
      "9\n",
      "[3, 5, 2]\n"
     ]
    }
   ],
   "source": [
    "def get_min_max(l):\n",
    "    min_num = min(l)\n",
    "    max_num = max(l)\n",
    "    l.remove(min_num)\n",
    "    l.remove(max_num)\n",
    "    return min_num, max_num\n",
    "    \n",
    "l = [3, 5, 9, 1, 2]\n",
    "min_val, max_val = get_min_max(l)\n",
    "\n",
    "print(min_val)\n",
    "print(max_val)\n",
    "print(l)"
   ]
  },
  {
   "cell_type": "markdown",
   "metadata": {},
   "source": [
    "실습 8"
   ]
  },
  {
   "cell_type": "code",
   "execution_count": 237,
   "metadata": {},
   "outputs": [
    {
     "name": "stdout",
     "output_type": "stream",
     "text": [
      "{'a': 3, 'b': 3, 'd': 7, 'e': 9, 'c': 4}\n"
     ]
    }
   ],
   "source": [
    "def comb_dict(d1, d2):\n",
    "    d = d1.copy() # d = d1 -> shallow copy\n",
    "    \n",
    "    for k in d2.keys():\n",
    "        if k in d:\n",
    "            d[k] += d2[k]\n",
    "        else:\n",
    "            d[k] = d2[k]\n",
    "    return d\n",
    "    \n",
    "d1 = {'a': 1, 'b': 3, 'd': 7, 'e': 8}\n",
    "d2 = {'a': 2, 'c': 4, 'e': 1}\n",
    "d3 = comb_dict(d1, d2)\n",
    "print(d3)"
   ]
  },
  {
   "cell_type": "markdown",
   "metadata": {},
   "source": [
    "실습 9"
   ]
  },
  {
   "cell_type": "code",
   "execution_count": 236,
   "metadata": {},
   "outputs": [
    {
     "name": "stdout",
     "output_type": "stream",
     "text": [
      "4\n",
      "300\n",
      "오류 발생\n"
     ]
    }
   ],
   "source": [
    "# def diff(*nums):\n",
    "#     max_num = max(nums)\n",
    "#     min_num = min(nums)\n",
    "    \n",
    "#     result = max_num - min_num\n",
    "#     return result\n",
    "    \n",
    "# print(diff(1,2,3,4,5))\n",
    "# print(diff(-100, 200))\n",
    "\n",
    "def diff(*b):\n",
    "    if len(b) < 2:\n",
    "        print('오류 발생')\n",
    "        return\n",
    "    maximum = max(b)\n",
    "    minimum = min(b)\n",
    "    \n",
    "    return maximum - minimum\n",
    "print(diff(1,2,3,4,5))\n",
    "print(diff(-100, 200))\n",
    "diff(0)\n"
   ]
  }
 ],
 "metadata": {
  "kernelspec": {
   "display_name": "Python 3",
   "language": "python",
   "name": "python3"
  },
  "language_info": {
   "codemirror_mode": {
    "name": "ipython",
    "version": 3
   },
   "file_extension": ".py",
   "mimetype": "text/x-python",
   "name": "python",
   "nbconvert_exporter": "python",
   "pygments_lexer": "ipython3",
   "version": "3.6.9"
  }
 },
 "nbformat": 4,
 "nbformat_minor": 2
}
